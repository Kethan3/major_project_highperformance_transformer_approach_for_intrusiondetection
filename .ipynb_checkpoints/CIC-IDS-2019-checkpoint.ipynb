{
 "cells": [
  {
   "cell_type": "code",
   "execution_count": 1,
   "metadata": {},
   "outputs": [],
   "source": [
    "import warnings\n",
    "warnings.filterwarnings('ignore')"
   ]
  },
  {
   "cell_type": "code",
   "execution_count": 2,
   "metadata": {
    "_cell_guid": "b1076dfc-b9ad-4769-8c92-a6c4dae69d19",
    "_uuid": "8f2839f25d086af736a60e9eeb907d3b93b6e0e5",
    "execution": {
     "iopub.execute_input": "2024-02-06T21:08:32.011141Z",
     "iopub.status.busy": "2024-02-06T21:08:32.010741Z",
     "iopub.status.idle": "2024-02-06T21:08:37.957850Z",
     "shell.execute_reply": "2024-02-06T21:08:37.956848Z",
     "shell.execute_reply.started": "2024-02-06T21:08:32.011108Z"
    }
   },
   "outputs": [],
   "source": [
    "import numpy as np \n",
    "import pandas as pd\n",
    "pd.set_option('display.max_columns', None)\n",
    "pd.set_option('display.max_rows', 80)\n",
    "\n",
    "from sklearn.preprocessing import LabelEncoder\n",
    "import time"
   ]
  },
  {
   "cell_type": "code",
   "execution_count": 3,
   "metadata": {
    "execution": {
     "iopub.execute_input": "2024-02-06T21:08:37.959848Z",
     "iopub.status.busy": "2024-02-06T21:08:37.959357Z",
     "iopub.status.idle": "2024-02-06T21:09:11.400225Z",
     "shell.execute_reply": "2024-02-06T21:09:11.399362Z",
     "shell.execute_reply.started": "2024-02-06T21:08:37.959820Z"
    }
   },
   "outputs": [],
   "source": [
    "df = pd.read_csv('CIC-IDS-2019/cicddos2019_dataset.csv')"
   ]
  },
  {
   "cell_type": "code",
   "execution_count": 4,
   "metadata": {},
   "outputs": [],
   "source": [
    "df = df.dropna()"
   ]
  },
  {
   "cell_type": "code",
   "execution_count": 5,
   "metadata": {},
   "outputs": [
    {
     "name": "stdout",
     "output_type": "stream",
     "text": [
      "<class 'pandas.core.frame.DataFrame'>\n",
      "Int64Index: 431371 entries, 0 to 431370\n",
      "Data columns (total 80 columns):\n",
      "Unnamed: 0                  431371 non-null int64\n",
      "Protocol                    431371 non-null int64\n",
      "Flow Duration               431371 non-null int64\n",
      "Total Fwd Packets           431371 non-null int64\n",
      "Total Backward Packets      431371 non-null int64\n",
      "Fwd Packets Length Total    431371 non-null float64\n",
      "Bwd Packets Length Total    431371 non-null float64\n",
      "Fwd Packet Length Max       431371 non-null float64\n",
      "Fwd Packet Length Min       431371 non-null float64\n",
      "Fwd Packet Length Mean      431371 non-null float64\n",
      "Fwd Packet Length Std       431371 non-null float64\n",
      "Bwd Packet Length Max       431371 non-null float64\n",
      "Bwd Packet Length Min       431371 non-null float64\n",
      "Bwd Packet Length Mean      431371 non-null float64\n",
      "Bwd Packet Length Std       431371 non-null float64\n",
      "Flow Bytes/s                431371 non-null float64\n",
      "Flow Packets/s              431371 non-null float64\n",
      "Flow IAT Mean               431371 non-null float64\n",
      "Flow IAT Std                431371 non-null float64\n",
      "Flow IAT Max                431371 non-null float64\n",
      "Flow IAT Min                431371 non-null float64\n",
      "Fwd IAT Total               431371 non-null float64\n",
      "Fwd IAT Mean                431371 non-null float64\n",
      "Fwd IAT Std                 431371 non-null float64\n",
      "Fwd IAT Max                 431371 non-null float64\n",
      "Fwd IAT Min                 431371 non-null float64\n",
      "Bwd IAT Total               431371 non-null float64\n",
      "Bwd IAT Mean                431371 non-null float64\n",
      "Bwd IAT Std                 431371 non-null float64\n",
      "Bwd IAT Max                 431371 non-null float64\n",
      "Bwd IAT Min                 431371 non-null float64\n",
      "Fwd PSH Flags               431371 non-null int64\n",
      "Bwd PSH Flags               431371 non-null int64\n",
      "Fwd URG Flags               431371 non-null int64\n",
      "Bwd URG Flags               431371 non-null int64\n",
      "Fwd Header Length           431371 non-null int64\n",
      "Bwd Header Length           431371 non-null int64\n",
      "Fwd Packets/s               431371 non-null float64\n",
      "Bwd Packets/s               431371 non-null float64\n",
      "Packet Length Min           431371 non-null float64\n",
      "Packet Length Max           431371 non-null float64\n",
      "Packet Length Mean          431371 non-null float64\n",
      "Packet Length Std           431371 non-null float64\n",
      "Packet Length Variance      431371 non-null float64\n",
      "FIN Flag Count              431371 non-null int64\n",
      "SYN Flag Count              431371 non-null int64\n",
      "RST Flag Count              431371 non-null int64\n",
      "PSH Flag Count              431371 non-null int64\n",
      "ACK Flag Count              431371 non-null int64\n",
      "URG Flag Count              431371 non-null int64\n",
      "CWE Flag Count              431371 non-null int64\n",
      "ECE Flag Count              431371 non-null int64\n",
      "Down/Up Ratio               431371 non-null float64\n",
      "Avg Packet Size             431371 non-null float64\n",
      "Avg Fwd Segment Size        431371 non-null float64\n",
      "Avg Bwd Segment Size        431371 non-null float64\n",
      "Fwd Avg Bytes/Bulk          431371 non-null int64\n",
      "Fwd Avg Packets/Bulk        431371 non-null int64\n",
      "Fwd Avg Bulk Rate           431371 non-null int64\n",
      "Bwd Avg Bytes/Bulk          431371 non-null int64\n",
      "Bwd Avg Packets/Bulk        431371 non-null int64\n",
      "Bwd Avg Bulk Rate           431371 non-null int64\n",
      "Subflow Fwd Packets         431371 non-null int64\n",
      "Subflow Fwd Bytes           431371 non-null int64\n",
      "Subflow Bwd Packets         431371 non-null int64\n",
      "Subflow Bwd Bytes           431371 non-null int64\n",
      "Init Fwd Win Bytes          431371 non-null int64\n",
      "Init Bwd Win Bytes          431371 non-null int64\n",
      "Fwd Act Data Packets        431371 non-null int64\n",
      "Fwd Seg Size Min            431371 non-null int64\n",
      "Active Mean                 431371 non-null float64\n",
      "Active Std                  431371 non-null float64\n",
      "Active Max                  431371 non-null float64\n",
      "Active Min                  431371 non-null float64\n",
      "Idle Mean                   431371 non-null float64\n",
      "Idle Std                    431371 non-null float64\n",
      "Idle Max                    431371 non-null float64\n",
      "Idle Min                    431371 non-null float64\n",
      "Label                       431371 non-null object\n",
      "Class                       431371 non-null object\n",
      "dtypes: float64(45), int64(33), object(2)\n",
      "memory usage: 266.6+ MB\n"
     ]
    }
   ],
   "source": [
    "df.info()"
   ]
  },
  {
   "cell_type": "code",
   "execution_count": 6,
   "metadata": {},
   "outputs": [
    {
     "data": {
      "text/plain": [
       "Index(['Unnamed: 0', 'Protocol', 'Flow Duration', 'Total Fwd Packets',\n",
       "       'Total Backward Packets', 'Fwd Packets Length Total',\n",
       "       'Bwd Packets Length Total', 'Fwd Packet Length Max',\n",
       "       'Fwd Packet Length Min', 'Fwd Packet Length Mean',\n",
       "       'Fwd Packet Length Std', 'Bwd Packet Length Max',\n",
       "       'Bwd Packet Length Min', 'Bwd Packet Length Mean',\n",
       "       'Bwd Packet Length Std', 'Flow Bytes/s', 'Flow Packets/s',\n",
       "       'Flow IAT Mean', 'Flow IAT Std', 'Flow IAT Max', 'Flow IAT Min',\n",
       "       'Fwd IAT Total', 'Fwd IAT Mean', 'Fwd IAT Std', 'Fwd IAT Max',\n",
       "       'Fwd IAT Min', 'Bwd IAT Total', 'Bwd IAT Mean', 'Bwd IAT Std',\n",
       "       'Bwd IAT Max', 'Bwd IAT Min', 'Fwd PSH Flags', 'Bwd PSH Flags',\n",
       "       'Fwd URG Flags', 'Bwd URG Flags', 'Fwd Header Length',\n",
       "       'Bwd Header Length', 'Fwd Packets/s', 'Bwd Packets/s',\n",
       "       'Packet Length Min', 'Packet Length Max', 'Packet Length Mean',\n",
       "       'Packet Length Std', 'Packet Length Variance', 'FIN Flag Count',\n",
       "       'SYN Flag Count', 'RST Flag Count', 'PSH Flag Count', 'ACK Flag Count',\n",
       "       'URG Flag Count', 'CWE Flag Count', 'ECE Flag Count', 'Down/Up Ratio',\n",
       "       'Avg Packet Size', 'Avg Fwd Segment Size', 'Avg Bwd Segment Size',\n",
       "       'Fwd Avg Bytes/Bulk', 'Fwd Avg Packets/Bulk', 'Fwd Avg Bulk Rate',\n",
       "       'Bwd Avg Bytes/Bulk', 'Bwd Avg Packets/Bulk', 'Bwd Avg Bulk Rate',\n",
       "       'Subflow Fwd Packets', 'Subflow Fwd Bytes', 'Subflow Bwd Packets',\n",
       "       'Subflow Bwd Bytes', 'Init Fwd Win Bytes', 'Init Bwd Win Bytes',\n",
       "       'Fwd Act Data Packets', 'Fwd Seg Size Min', 'Active Mean', 'Active Std',\n",
       "       'Active Max', 'Active Min', 'Idle Mean', 'Idle Std', 'Idle Max',\n",
       "       'Idle Min', 'Label', 'Class'],\n",
       "      dtype='object')"
      ]
     },
     "execution_count": 6,
     "metadata": {},
     "output_type": "execute_result"
    }
   ],
   "source": [
    "df.columns"
   ]
  },
  {
   "cell_type": "code",
   "execution_count": 7,
   "metadata": {},
   "outputs": [
    {
     "data": {
      "text/plain": [
       "DrDoS_NTP        121368\n",
       "TFTP              98917\n",
       "Benign            97831\n",
       "Syn               49373\n",
       "UDP               18090\n",
       "DrDoS_UDP         10420\n",
       "UDP-lag            8872\n",
       "MSSQL              8523\n",
       "DrDoS_MSSQL        6212\n",
       "DrDoS_DNS          3669\n",
       "DrDoS_SNMP         2717\n",
       "LDAP               1906\n",
       "DrDoS_LDAP         1440\n",
       "Portmap             685\n",
       "NetBIOS             644\n",
       "DrDoS_NetBIOS       598\n",
       "UDPLag               55\n",
       "WebDDoS              51\n",
       "Name: Label, dtype: int64"
      ]
     },
     "execution_count": 7,
     "metadata": {},
     "output_type": "execute_result"
    }
   ],
   "source": [
    "df['Label'].value_counts()"
   ]
  },
  {
   "cell_type": "code",
   "execution_count": 8,
   "metadata": {},
   "outputs": [
    {
     "data": {
      "text/plain": [
       "18"
      ]
     },
     "execution_count": 8,
     "metadata": {},
     "output_type": "execute_result"
    }
   ],
   "source": [
    "len(df['Label'].value_counts())"
   ]
  },
  {
   "cell_type": "code",
   "execution_count": 9,
   "metadata": {},
   "outputs": [
    {
     "data": {
      "text/plain": [
       "Attack    333540\n",
       "Benign     97831\n",
       "Name: Class, dtype: int64"
      ]
     },
     "execution_count": 9,
     "metadata": {},
     "output_type": "execute_result"
    }
   ],
   "source": [
    "df['Class'].value_counts()"
   ]
  },
  {
   "cell_type": "code",
   "execution_count": 10,
   "metadata": {},
   "outputs": [],
   "source": [
    "del df['Unnamed: 0']\n",
    "del df['Class']"
   ]
  },
  {
   "cell_type": "code",
   "execution_count": 11,
   "metadata": {},
   "outputs": [
    {
     "name": "stdout",
     "output_type": "stream",
     "text": [
      "<class 'pandas.core.frame.DataFrame'>\n",
      "Int64Index: 431371 entries, 0 to 431370\n",
      "Data columns (total 78 columns):\n",
      "Protocol                    431371 non-null int64\n",
      "Flow Duration               431371 non-null int64\n",
      "Total Fwd Packets           431371 non-null int64\n",
      "Total Backward Packets      431371 non-null int64\n",
      "Fwd Packets Length Total    431371 non-null float64\n",
      "Bwd Packets Length Total    431371 non-null float64\n",
      "Fwd Packet Length Max       431371 non-null float64\n",
      "Fwd Packet Length Min       431371 non-null float64\n",
      "Fwd Packet Length Mean      431371 non-null float64\n",
      "Fwd Packet Length Std       431371 non-null float64\n",
      "Bwd Packet Length Max       431371 non-null float64\n",
      "Bwd Packet Length Min       431371 non-null float64\n",
      "Bwd Packet Length Mean      431371 non-null float64\n",
      "Bwd Packet Length Std       431371 non-null float64\n",
      "Flow Bytes/s                431371 non-null float64\n",
      "Flow Packets/s              431371 non-null float64\n",
      "Flow IAT Mean               431371 non-null float64\n",
      "Flow IAT Std                431371 non-null float64\n",
      "Flow IAT Max                431371 non-null float64\n",
      "Flow IAT Min                431371 non-null float64\n",
      "Fwd IAT Total               431371 non-null float64\n",
      "Fwd IAT Mean                431371 non-null float64\n",
      "Fwd IAT Std                 431371 non-null float64\n",
      "Fwd IAT Max                 431371 non-null float64\n",
      "Fwd IAT Min                 431371 non-null float64\n",
      "Bwd IAT Total               431371 non-null float64\n",
      "Bwd IAT Mean                431371 non-null float64\n",
      "Bwd IAT Std                 431371 non-null float64\n",
      "Bwd IAT Max                 431371 non-null float64\n",
      "Bwd IAT Min                 431371 non-null float64\n",
      "Fwd PSH Flags               431371 non-null int64\n",
      "Bwd PSH Flags               431371 non-null int64\n",
      "Fwd URG Flags               431371 non-null int64\n",
      "Bwd URG Flags               431371 non-null int64\n",
      "Fwd Header Length           431371 non-null int64\n",
      "Bwd Header Length           431371 non-null int64\n",
      "Fwd Packets/s               431371 non-null float64\n",
      "Bwd Packets/s               431371 non-null float64\n",
      "Packet Length Min           431371 non-null float64\n",
      "Packet Length Max           431371 non-null float64\n",
      "Packet Length Mean          431371 non-null float64\n",
      "Packet Length Std           431371 non-null float64\n",
      "Packet Length Variance      431371 non-null float64\n",
      "FIN Flag Count              431371 non-null int64\n",
      "SYN Flag Count              431371 non-null int64\n",
      "RST Flag Count              431371 non-null int64\n",
      "PSH Flag Count              431371 non-null int64\n",
      "ACK Flag Count              431371 non-null int64\n",
      "URG Flag Count              431371 non-null int64\n",
      "CWE Flag Count              431371 non-null int64\n",
      "ECE Flag Count              431371 non-null int64\n",
      "Down/Up Ratio               431371 non-null float64\n",
      "Avg Packet Size             431371 non-null float64\n",
      "Avg Fwd Segment Size        431371 non-null float64\n",
      "Avg Bwd Segment Size        431371 non-null float64\n",
      "Fwd Avg Bytes/Bulk          431371 non-null int64\n",
      "Fwd Avg Packets/Bulk        431371 non-null int64\n",
      "Fwd Avg Bulk Rate           431371 non-null int64\n",
      "Bwd Avg Bytes/Bulk          431371 non-null int64\n",
      "Bwd Avg Packets/Bulk        431371 non-null int64\n",
      "Bwd Avg Bulk Rate           431371 non-null int64\n",
      "Subflow Fwd Packets         431371 non-null int64\n",
      "Subflow Fwd Bytes           431371 non-null int64\n",
      "Subflow Bwd Packets         431371 non-null int64\n",
      "Subflow Bwd Bytes           431371 non-null int64\n",
      "Init Fwd Win Bytes          431371 non-null int64\n",
      "Init Bwd Win Bytes          431371 non-null int64\n",
      "Fwd Act Data Packets        431371 non-null int64\n",
      "Fwd Seg Size Min            431371 non-null int64\n",
      "Active Mean                 431371 non-null float64\n",
      "Active Std                  431371 non-null float64\n",
      "Active Max                  431371 non-null float64\n",
      "Active Min                  431371 non-null float64\n",
      "Idle Mean                   431371 non-null float64\n",
      "Idle Std                    431371 non-null float64\n",
      "Idle Max                    431371 non-null float64\n",
      "Idle Min                    431371 non-null float64\n",
      "Label                       431371 non-null object\n",
      "dtypes: float64(45), int64(32), object(1)\n",
      "memory usage: 260.0+ MB\n"
     ]
    }
   ],
   "source": [
    "df.info()"
   ]
  },
  {
   "cell_type": "code",
   "execution_count": 12,
   "metadata": {},
   "outputs": [
    {
     "data": {
      "text/plain": [
       "array([14,  9,  0, 11, 12, 10, 16,  8,  1, 15, 17, 13,  7,  6,  5,  2,  3,\n",
       "        4], dtype=int64)"
      ]
     },
     "execution_count": 12,
     "metadata": {},
     "output_type": "execute_result"
    }
   ],
   "source": [
    "# Import label encoder\n",
    "from sklearn import preprocessing\n",
    "\n",
    "# label_encoder object knows\n",
    "# how to understand word labels.\n",
    "label_encoder = preprocessing.LabelEncoder()\n",
    "\n",
    "# Encode labels in column 'species'.\n",
    "df['Label']= label_encoder.fit_transform(df['Label'])\n",
    "\n",
    "df['Label'].unique()"
   ]
  },
  {
   "cell_type": "code",
   "execution_count": 13,
   "metadata": {},
   "outputs": [
    {
     "data": {
      "text/plain": [
       "Index(['Protocol', 'Flow Duration', 'Total Fwd Packets',\n",
       "       'Total Backward Packets', 'Fwd Packets Length Total',\n",
       "       'Bwd Packets Length Total', 'Fwd Packet Length Max',\n",
       "       'Fwd Packet Length Min', 'Fwd Packet Length Mean',\n",
       "       'Fwd Packet Length Std', 'Bwd Packet Length Max',\n",
       "       'Bwd Packet Length Min', 'Bwd Packet Length Mean',\n",
       "       'Bwd Packet Length Std', 'Flow Bytes/s', 'Flow Packets/s',\n",
       "       'Flow IAT Mean', 'Flow IAT Std', 'Flow IAT Max', 'Flow IAT Min',\n",
       "       'Fwd IAT Total', 'Fwd IAT Mean', 'Fwd IAT Std', 'Fwd IAT Max',\n",
       "       'Fwd IAT Min', 'Bwd IAT Total', 'Bwd IAT Mean', 'Bwd IAT Std',\n",
       "       'Bwd IAT Max', 'Bwd IAT Min', 'Fwd PSH Flags', 'Bwd PSH Flags',\n",
       "       'Fwd URG Flags', 'Bwd URG Flags', 'Fwd Header Length',\n",
       "       'Bwd Header Length', 'Fwd Packets/s', 'Bwd Packets/s',\n",
       "       'Packet Length Min', 'Packet Length Max', 'Packet Length Mean',\n",
       "       'Packet Length Std', 'Packet Length Variance', 'FIN Flag Count',\n",
       "       'SYN Flag Count', 'RST Flag Count', 'PSH Flag Count', 'ACK Flag Count',\n",
       "       'URG Flag Count', 'CWE Flag Count', 'ECE Flag Count', 'Down/Up Ratio',\n",
       "       'Avg Packet Size', 'Avg Fwd Segment Size', 'Avg Bwd Segment Size',\n",
       "       'Fwd Avg Bytes/Bulk', 'Fwd Avg Packets/Bulk', 'Fwd Avg Bulk Rate',\n",
       "       'Bwd Avg Bytes/Bulk', 'Bwd Avg Packets/Bulk', 'Bwd Avg Bulk Rate',\n",
       "       'Subflow Fwd Packets', 'Subflow Fwd Bytes', 'Subflow Bwd Packets',\n",
       "       'Subflow Bwd Bytes', 'Init Fwd Win Bytes', 'Init Bwd Win Bytes',\n",
       "       'Fwd Act Data Packets', 'Fwd Seg Size Min', 'Active Mean', 'Active Std',\n",
       "       'Active Max', 'Active Min', 'Idle Mean', 'Idle Std', 'Idle Max',\n",
       "       'Idle Min', 'Label'],\n",
       "      dtype='object')"
      ]
     },
     "execution_count": 13,
     "metadata": {},
     "output_type": "execute_result"
    }
   ],
   "source": [
    "df.columns"
   ]
  },
  {
   "cell_type": "markdown",
   "metadata": {},
   "source": [
    "# Feature Selection"
   ]
  },
  {
   "cell_type": "code",
   "execution_count": 14,
   "metadata": {},
   "outputs": [],
   "source": [
    "X = df.drop([\"Label\"],axis =1)\n",
    "y = df[\"Label\"]"
   ]
  },
  {
   "cell_type": "code",
   "execution_count": 15,
   "metadata": {},
   "outputs": [
    {
     "data": {
      "text/plain": [
       "(431371, 8)"
      ]
     },
     "execution_count": 15,
     "metadata": {},
     "output_type": "execute_result"
    }
   ],
   "source": [
    "from sklearn.feature_selection import SelectKBest, SelectPercentile, mutual_info_classif\n",
    "\n",
    "selector = SelectPercentile(mutual_info_classif, percentile=10)\n",
    "X_reduced = selector.fit_transform(X, y)\n",
    "X_reduced.shape\n"
   ]
  },
  {
   "cell_type": "code",
   "execution_count": 16,
   "metadata": {},
   "outputs": [
    {
     "data": {
      "text/plain": [
       "['Fwd Packet Length Max',\n",
       " 'Fwd Packet Length Min',\n",
       " 'Fwd Packet Length Mean',\n",
       " 'Packet Length Min',\n",
       " 'Packet Length Max',\n",
       " 'Packet Length Mean',\n",
       " 'Avg Packet Size',\n",
       " 'Avg Fwd Segment Size']"
      ]
     },
     "execution_count": 16,
     "metadata": {},
     "output_type": "execute_result"
    }
   ],
   "source": [
    "cols = selector.get_support(indices=True)\n",
    "selected_columns = X.iloc[:,cols].columns.tolist()\n",
    "selected_columns"
   ]
  },
  {
   "cell_type": "code",
   "execution_count": 17,
   "metadata": {},
   "outputs": [],
   "source": [
    "df = df[['Fwd Packet Length Max',\n",
    " 'Fwd Packet Length Min',\n",
    " 'Fwd Packet Length Mean',\n",
    " 'Packet Length Min',\n",
    " 'Packet Length Max',\n",
    " 'Packet Length Mean',\n",
    " 'Avg Packet Size',\n",
    " 'Avg Fwd Segment Size',\n",
    "                  'Label']]\n",
    "df.to_csv('cicids2019_red.csv')"
   ]
  },
  {
   "cell_type": "code",
   "execution_count": 78,
   "metadata": {},
   "outputs": [],
   "source": [
    "from sklearn.model_selection import train_test_split\n",
    "# splitting the dataset 80% for training and 20% testing\n",
    "X_train, X_test, y_train, y_test = train_test_split(X_reduced,y, test_size=0.20, random_state=42)"
   ]
  },
  {
   "cell_type": "code",
   "execution_count": 19,
   "metadata": {},
   "outputs": [],
   "source": [
    "from sklearn.metrics import accuracy_score\n",
    "from sklearn.metrics import precision_score\n",
    "from sklearn.metrics import recall_score\n",
    "from sklearn.metrics import f1_score"
   ]
  },
  {
   "cell_type": "code",
   "execution_count": 94,
   "metadata": {},
   "outputs": [],
   "source": [
    "ML_Model = []\n",
    "accuracy = []\n",
    "precision = []\n",
    "recall = []\n",
    "f1score = []\n",
    "\n",
    "#function to call for storing the results\n",
    "def storeResults(model, a,b,c,d):\n",
    "    ML_Model.append(model)\n",
    "    accuracy.append(round(a, 3))\n",
    "    precision.append(round(b, 3))\n",
    "    recall.append(round(c, 3))\n",
    "    f1score.append(round(d, 3))"
   ]
  },
  {
   "cell_type": "markdown",
   "metadata": {},
   "source": [
    "# SVM"
   ]
  },
  {
   "cell_type": "code",
   "execution_count": 21,
   "metadata": {},
   "outputs": [],
   "source": [
    "from sklearn.svm import LinearSVC\n",
    "\n",
    "clf = LinearSVC()\n",
    "# fit the model \n",
    "clf.fit(X_train, y_train)\n",
    "\n",
    "y_pred = clf.predict(X_test)\n",
    "\n",
    "svc_acc = accuracy_score(y_pred, y_test)\n",
    "svc_prec = precision_score(y_pred, y_test,average='weighted')\n",
    "svc_rec = recall_score(y_pred, y_test,average='weighted')\n",
    "svc_f1 = f1_score(y_pred, y_test,average='weighted')"
   ]
  },
  {
   "cell_type": "code",
   "execution_count": 95,
   "metadata": {},
   "outputs": [],
   "source": [
    "storeResults('SVM',svc_acc,svc_prec,svc_rec,svc_f1)"
   ]
  },
  {
   "cell_type": "markdown",
   "metadata": {},
   "source": [
    "# Bagging Classifier"
   ]
  },
  {
   "cell_type": "code",
   "execution_count": 23,
   "metadata": {},
   "outputs": [],
   "source": [
    "from sklearn.ensemble import BaggingClassifier, RandomForestClassifier\n",
    "\n",
    "clf = BaggingClassifier(RandomForestClassifier(),n_estimators=10, random_state=0)\n",
    "\n",
    "clf.fit(X_train, y_train)\n",
    "\n",
    "y_pred = clf.predict(X_test)\n",
    "\n",
    "bag_acc = accuracy_score(y_pred, y_test)\n",
    "bag_prec = precision_score(y_pred, y_test,average='weighted')\n",
    "bag_rec = recall_score(y_pred, y_test,average='weighted')\n",
    "bag_f1 = f1_score(y_pred, y_test,average='weighted')"
   ]
  },
  {
   "cell_type": "code",
   "execution_count": 96,
   "metadata": {},
   "outputs": [],
   "source": [
    "storeResults('Bagging Classifier',bag_acc,bag_prec,bag_rec,bag_f1)"
   ]
  },
  {
   "cell_type": "markdown",
   "metadata": {},
   "source": [
    "# Voting Classifier"
   ]
  },
  {
   "cell_type": "code",
   "execution_count": 79,
   "metadata": {},
   "outputs": [],
   "source": [
    "from sklearn.ensemble import RandomForestClassifier, VotingClassifier\n",
    "from sklearn.tree import DecisionTreeClassifier\n",
    "\n",
    "clf1 = BaggingClassifier(RandomForestClassifier(),n_estimators=10, random_state=0)\n",
    "clf2 = DecisionTreeClassifier(random_state=10)\n",
    "\n",
    "eclf1 = VotingClassifier(estimators=[('bagging', clf1), ('dt', clf2)], voting='soft')\n",
    "eclf1.fit(X_train, y_train)\n",
    "y_pred = eclf1.predict(X_test)\n",
    "\n",
    "vot_acc = accuracy_score(y_pred, y_test)\n",
    "vot_prec = precision_score(y_pred, y_test,average='weighted')\n",
    "vot_rec = recall_score(y_pred, y_test,average='weighted')\n",
    "vot_f1 = f1_score(y_pred, y_test,average='weighted')"
   ]
  },
  {
   "cell_type": "code",
   "execution_count": 97,
   "metadata": {},
   "outputs": [],
   "source": [
    "storeResults('Voting Classifier',vot_acc,vot_prec,vot_rec,vot_f1)"
   ]
  },
  {
   "cell_type": "markdown",
   "metadata": {},
   "source": [
    "# DL"
   ]
  },
  {
   "cell_type": "code",
   "execution_count": 28,
   "metadata": {},
   "outputs": [],
   "source": [
    "import tensorflow as tf\n",
    "from tensorflow.keras.utils import to_categorical\n",
    "\n",
    "from keras.layers import Dense, Conv1D, MaxPool1D, Flatten, Dropout # importing dense layer\n",
    "from keras.models import Sequential #importing Sequential layer\n",
    "from keras.layers import Input\n",
    "from keras.models import Model"
   ]
  },
  {
   "cell_type": "code",
   "execution_count": 29,
   "metadata": {},
   "outputs": [],
   "source": [
    "X_train, X_test, y_train, y_test = train_test_split(X_reduced,y, test_size=0.20, random_state=42)"
   ]
  },
  {
   "cell_type": "code",
   "execution_count": 30,
   "metadata": {},
   "outputs": [],
   "source": [
    "#X_train=X_train.values\n",
    "#X_test=X_test.values\n",
    "\n",
    "X_train = X_train.reshape(-1, X_train.shape[1],1)\n",
    "X_test = X_test.reshape(-1, X_test.shape[1],1)\n",
    "\n",
    "Y_train=to_categorical(y_train)\n",
    "Y_test=to_categorical(y_test)"
   ]
  },
  {
   "cell_type": "markdown",
   "metadata": {},
   "source": [
    "# LSTM"
   ]
  },
  {
   "cell_type": "code",
   "execution_count": 31,
   "metadata": {},
   "outputs": [],
   "source": [
    "from tensorflow.keras.models import Sequential\n",
    "from tensorflow.keras.layers import Dense, LSTM, SimpleRNN\n",
    "from tensorflow.keras.layers import Dropout\n",
    "from keras import regularizers\n",
    "import tensorflow as tf"
   ]
  },
  {
   "cell_type": "code",
   "execution_count": 32,
   "metadata": {},
   "outputs": [
    {
     "name": "stdout",
     "output_type": "stream",
     "text": [
      "WARNING:tensorflow:Layer lstm will not use cuDNN kernels since it doesn't meet the criteria. It will use a generic GPU kernel as fallback when running on GPU.\n",
      "WARNING:tensorflow:Layer lstm_1 will not use cuDNN kernels since it doesn't meet the criteria. It will use a generic GPU kernel as fallback when running on GPU.\n",
      "WARNING:tensorflow:Layer lstm_2 will not use cuDNN kernels since it doesn't meet the criteria. It will use a generic GPU kernel as fallback when running on GPU.\n",
      "WARNING:tensorflow:Layer lstm_3 will not use cuDNN kernels since it doesn't meet the criteria. It will use a generic GPU kernel as fallback when running on GPU.\n"
     ]
    }
   ],
   "source": [
    "from keras.models import Sequential\n",
    "from keras.layers import Dense, LSTM\n",
    "from keras.layers import Dropout\n",
    "from keras import regularizers\n",
    "import tensorflow as tf\n",
    "\n",
    "# define a function to build the keras model\n",
    "def create_model(input_shape):\n",
    "    # create model\n",
    "    d = 0.25\n",
    "    model = Sequential()\n",
    "    \n",
    "    model.add(LSTM(32, input_shape=input_shape, activation='relu', return_sequences=True))\n",
    "    model.add(Dropout(d))\n",
    "\n",
    "    model.add(LSTM(64, input_shape=input_shape, activation='relu', return_sequences=True))\n",
    "    model.add(Dropout(d))\n",
    "        \n",
    "    model.add(LSTM(128, input_shape=input_shape, activation='relu', return_sequences=True))\n",
    "    model.add(Dropout(d))\n",
    "\n",
    "    model.add(LSTM(256, input_shape=input_shape, activation='relu', return_sequences=False))\n",
    "    model.add(Dropout(d))\n",
    "   \n",
    "    model.add(Dense(32,kernel_initializer=\"uniform\",activation='relu'))        \n",
    "    model.add(Dense(1,kernel_initializer=\"uniform\",activation='linear'))\n",
    "    \n",
    "    # compile model\n",
    "    adam = tf.keras.optimizers.Adam(learning_rate=0.001, decay=0.00001)\n",
    "    #model.compile(loss='mse', optimizer='adam', metrics=['accuracy'])\n",
    "    model.compile(loss='categorical_crossentropy', optimizer='adam', metrics=['accuracy'])\n",
    "    #model.compile(loss='binary_crossentropy', optimizer='adam', metrics=['accuracy'])\n",
    "    return model\n",
    "\n",
    "model = create_model(input_shape=(8,1))\n",
    "#print(model.summary())"
   ]
  },
  {
   "cell_type": "code",
   "execution_count": 33,
   "metadata": {},
   "outputs": [
    {
     "name": "stdout",
     "output_type": "stream",
     "text": [
      "Epoch 1/5\n",
      "500/500 [==============================] - 69s 103ms/step - loss: nan - accuracy: 0.2029 - val_loss: nan - val_accuracy: 0.2296\n",
      "Epoch 2/5\n",
      "500/500 [==============================] - 51s 102ms/step - loss: nan - accuracy: 0.2275 - val_loss: nan - val_accuracy: 0.2296\n",
      "Epoch 3/5\n",
      "500/500 [==============================] - 52s 103ms/step - loss: nan - accuracy: 0.2239 - val_loss: nan - val_accuracy: 0.2296\n",
      "Epoch 4/5\n",
      "500/500 [==============================] - 51s 102ms/step - loss: nan - accuracy: 0.2038 - val_loss: nan - val_accuracy: 0.2296\n",
      "Epoch 5/5\n",
      "500/500 [==============================] - 51s 101ms/step - loss: nan - accuracy: 0.2280 - val_loss: nan - val_accuracy: 0.2296\n"
     ]
    }
   ],
   "source": [
    "history=model.fit(X_train, y_train, validation_data=(X_test, y_test),epochs=5, batch_size=5, verbose=1, steps_per_epoch=500, validation_steps=500)"
   ]
  },
  {
   "cell_type": "code",
   "execution_count": 35,
   "metadata": {},
   "outputs": [],
   "source": [
    "import matplotlib.pyplot as plt"
   ]
  },
  {
   "cell_type": "code",
   "execution_count": 36,
   "metadata": {},
   "outputs": [
    {
     "data": {
      "image/png": "[encoded data removed]",
      "text/plain": [
       "<Figure size 432x288 with 1 Axes>"
      ]
     },
     "metadata": {
      "needs_background": "light"
     },
     "output_type": "display_data"
    },
    {
     "data": {
      "image/png": "[encoded data removed]",
      "text/plain": [
       "<Figure size 432x288 with 1 Axes>"
      ]
     },
     "metadata": {
      "needs_background": "light"
     },
     "output_type": "display_data"
    }
   ],
   "source": [
    "# Plot training & validation loss values\n",
    "plt.plot(history.history['loss'])\n",
    "plt.plot(history.history['val_loss'])\n",
    "plt.title('Model loss')\n",
    "plt.ylabel('Loss')\n",
    "plt.xlabel('Epoch')\n",
    "plt.legend(['Train', 'Validation'], loc='upper left')\n",
    "plt.savefig('loss.png', format='png', dpi=1200)\n",
    "plt.show()\n",
    "\n",
    "\n",
    "# Plot training & validation accuracy values\n",
    "plt.plot(history.history['accuracy'])\n",
    "plt.plot(history.history['val_accuracy'])\n",
    "plt.title('Model accuracy')\n",
    "plt.ylabel('Accuracy')\n",
    "plt.xlabel('Epoch')\n",
    "plt.legend(['Train', 'Validation'], loc='upper left')\n",
    "plt.savefig('accuracy.png', format='png', dpi=1200)\n",
    "plt.show()"
   ]
  },
  {
   "cell_type": "code",
   "execution_count": 37,
   "metadata": {},
   "outputs": [
    {
     "name": "stdout",
     "output_type": "stream",
     "text": [
      "2697/2697 [==============================] - 43s 16ms/step\n"
     ]
    }
   ],
   "source": [
    "y_pred = model.predict(X_test, verbose=1)\n",
    "y_pred = np.argmax(y_pred,axis=1)\n",
    "\n",
    "lstm_acc = accuracy_score(y_pred, y_test)\n",
    "lstm_prec = precision_score(y_pred, y_test,average='weighted')\n",
    "lstm_rec = recall_score(y_pred, y_test,average='weighted')\n",
    "lstm_f1 = f1_score(y_pred, y_test,average='weighted')"
   ]
  },
  {
   "cell_type": "code",
   "execution_count": 98,
   "metadata": {},
   "outputs": [],
   "source": [
    "storeResults('LSTM',lstm_acc,lstm_prec,lstm_rec,lstm_f1)"
   ]
  },
  {
   "cell_type": "markdown",
   "metadata": {},
   "source": [
    "# RNN"
   ]
  },
  {
   "cell_type": "code",
   "execution_count": 39,
   "metadata": {},
   "outputs": [],
   "source": [
    "def create_model(input_shape):\n",
    "    # create model\n",
    "    d = 0.25\n",
    "    model = Sequential()\n",
    "    \n",
    "    model.add(SimpleRNN(32, input_shape=input_shape, activation='relu', return_sequences=True))\n",
    "    model.add(Dropout(d))\n",
    "\n",
    "    model.add(SimpleRNN(64, input_shape=input_shape, activation='relu', return_sequences=True))\n",
    "    model.add(Dropout(d))\n",
    "        \n",
    "    model.add(SimpleRNN(128, input_shape=input_shape, activation='relu', return_sequences=True))\n",
    "    model.add(Dropout(d))\n",
    "\n",
    "    model.add(SimpleRNN(256, input_shape=input_shape, activation='relu', return_sequences=False))\n",
    "    model.add(Dropout(d))\n",
    "   \n",
    "    model.add(Dense(32,kernel_initializer=\"uniform\",activation='relu'))        \n",
    "    model.add(Dense(1,kernel_initializer=\"uniform\",activation='linear'))\n",
    "    \n",
    "    # compile model\n",
    "    adam = tf.keras.optimizers.Adam(learning_rate=0.001, decay=0.00001)\n",
    "    #model.compile(loss='mse', optimizer='adam', metrics=['accuracy'])\n",
    "    model.compile(loss='categorical_crossentropy', optimizer='adam', metrics=['accuracy'])\n",
    "    #model.compile(loss='binary_crossentropy', optimizer='adam', metrics=['accuracy'])\n",
    "    return model\n",
    "\n",
    "model = create_model(input_shape=(8,1))\n",
    "#print(model.summary())"
   ]
  },
  {
   "cell_type": "code",
   "execution_count": 40,
   "metadata": {},
   "outputs": [
    {
     "name": "stdout",
     "output_type": "stream",
     "text": [
      "Epoch 1/5\n",
      "500/500 [==============================] - 31s 49ms/step - loss: nan - accuracy: 0.2342 - val_loss: nan - val_accuracy: 0.2296\n",
      "Epoch 2/5\n",
      "500/500 [==============================] - 24s 47ms/step - loss: nan - accuracy: 0.2316 - val_loss: nan - val_accuracy: 0.2296\n",
      "Epoch 3/5\n",
      "500/500 [==============================] - 24s 47ms/step - loss: nan - accuracy: 0.2381 - val_loss: nan - val_accuracy: 0.2296\n",
      "Epoch 4/5\n",
      "500/500 [==============================] - 24s 47ms/step - loss: nan - accuracy: 0.2192 - val_loss: nan - val_accuracy: 0.2296\n",
      "Epoch 5/5\n",
      "500/500 [==============================] - 24s 48ms/step - loss: nan - accuracy: 0.2248 - val_loss: nan - val_accuracy: 0.2296\n"
     ]
    }
   ],
   "source": [
    "history=model.fit(X_train, y_train, validation_data=(X_test, y_test),epochs=5, batch_size=5, verbose=1, steps_per_epoch=500, validation_steps=500)"
   ]
  },
  {
   "cell_type": "code",
   "execution_count": 41,
   "metadata": {},
   "outputs": [
    {
     "data": {
      "image/png": "[encoded data removed]",
      "text/plain": [
       "<Figure size 432x288 with 1 Axes>"
      ]
     },
     "metadata": {
      "needs_background": "light"
     },
     "output_type": "display_data"
    },
    {
     "data": {
      "image/png": "[encoded data removed]",
      "text/plain": [
       "<Figure size 432x288 with 1 Axes>"
      ]
     },
     "metadata": {
      "needs_background": "light"
     },
     "output_type": "display_data"
    }
   ],
   "source": [
    "# Plot training & validation loss values\n",
    "plt.plot(history.history['loss'])\n",
    "plt.plot(history.history['val_loss'])\n",
    "plt.title('Model loss')\n",
    "plt.ylabel('Loss')\n",
    "plt.xlabel('Epoch')\n",
    "plt.legend(['Train', 'Validation'], loc='upper left')\n",
    "plt.savefig('loss.png', format='png', dpi=1200)\n",
    "plt.show()\n",
    "\n",
    "\n",
    "# Plot training & validation accuracy values\n",
    "plt.plot(history.history['accuracy'])\n",
    "plt.plot(history.history['val_accuracy'])\n",
    "plt.title('Model accuracy')\n",
    "plt.ylabel('Accuracy')\n",
    "plt.xlabel('Epoch')\n",
    "plt.legend(['Train', 'Validation'], loc='upper left')\n",
    "plt.savefig('accuracy.png', format='png', dpi=1200)\n",
    "plt.show()"
   ]
  },
  {
   "cell_type": "code",
   "execution_count": 42,
   "metadata": {},
   "outputs": [
    {
     "name": "stdout",
     "output_type": "stream",
     "text": [
      "2697/2697 [==============================] - 18s 6ms/step\n"
     ]
    }
   ],
   "source": [
    "y_pred = model.predict(X_test, verbose=1)\n",
    "y_pred = np.argmax(y_pred,axis=1)\n",
    "\n",
    "rnn_acc = accuracy_score(y_pred, y_test)\n",
    "rnn_prec = precision_score(y_pred, y_test,average='weighted')\n",
    "rnn_rec = recall_score(y_pred, y_test,average='weighted')\n",
    "rnn_f1 = f1_score(y_pred, y_test,average='weighted')"
   ]
  },
  {
   "cell_type": "code",
   "execution_count": 99,
   "metadata": {},
   "outputs": [],
   "source": [
    "storeResults('RNN',rnn_acc,rnn_prec,rnn_rec,rnn_f1)"
   ]
  },
  {
   "cell_type": "markdown",
   "metadata": {},
   "source": [
    "# CNN + LSTM"
   ]
  },
  {
   "cell_type": "code",
   "execution_count": 44,
   "metadata": {},
   "outputs": [
    {
     "name": "stdout",
     "output_type": "stream",
     "text": [
      "Model: \"sequential\"\n",
      "_________________________________________________________________\n",
      "Layer (type)                 Output Shape              Param #   \n",
      "=================================================================\n",
      "conv1d (Conv1D)              (None, 8, 64)             384       \n",
      "_________________________________________________________________\n",
      "max_pooling1d (MaxPooling1D) (None, 7, 64)             0         \n",
      "_________________________________________________________________\n",
      "conv1d_1 (Conv1D)            (None, 7, 32)             6176      \n",
      "_________________________________________________________________\n",
      "max_pooling1d_1 (MaxPooling1 (None, 6, 32)             0         \n",
      "_________________________________________________________________\n",
      "lstm (LSTM)                  (None, 6, 128)            82432     \n",
      "_________________________________________________________________\n",
      "flatten (Flatten)            (None, 768)               0         \n",
      "_________________________________________________________________\n",
      "dense (Dense)                (None, 128)               98432     \n",
      "_________________________________________________________________\n",
      "dropout (Dropout)            (None, 128)               0         \n",
      "_________________________________________________________________\n",
      "dense_1 (Dense)              (None, 32)                4128      \n",
      "_________________________________________________________________\n",
      "dropout_1 (Dropout)          (None, 32)                0         \n",
      "_________________________________________________________________\n",
      "dense_2 (Dense)              (None, 18)                594       \n",
      "=================================================================\n",
      "Total params: 192,146\n",
      "Trainable params: 192,146\n",
      "Non-trainable params: 0\n",
      "_________________________________________________________________\n"
     ]
    }
   ],
   "source": [
    "import tensorflow as tf\n",
    "tf.keras.backend.clear_session()\n",
    "\n",
    "model1 = tf.keras.models.Sequential([tf.keras.layers.Conv1D(filters=64,kernel_size=5,strides=1,padding=\"causal\",activation=\"relu\",input_shape=(X_train.shape[1],X_train.shape[2])),\n",
    "    tf.keras.layers.MaxPooling1D(pool_size=2, strides=1, padding=\"valid\"),\n",
    "    tf.keras.layers.Conv1D(filters=32, kernel_size=3, strides=1, padding=\"causal\", activation=\"relu\"),\n",
    "    tf.keras.layers.MaxPooling1D(pool_size=2, strides=1, padding=\"valid\"),\n",
    "    tf.keras.layers.LSTM(128, return_sequences=True),\n",
    "    tf.keras.layers.Flatten(),\n",
    "    tf.keras.layers.Dense(128, activation=\"relu\"),\n",
    "    tf.keras.layers.Dropout(0.2),\n",
    "    tf.keras.layers.Dense(32, activation=\"relu\"),\n",
    "    tf.keras.layers.Dropout(0.1),\n",
    "    tf.keras.layers.Dense(18)\n",
    "])\n",
    "\n",
    "lr_schedule = tf.keras.optimizers.schedules.ExponentialDecay(5e-4,\n",
    "                                                             decay_steps=1000000,\n",
    "                                                             decay_rate=0.98,\n",
    "                                                             staircase=False)\n",
    "\n",
    "model1.compile(loss=tf.keras.losses.MeanSquaredError(),\n",
    "              optimizer=tf.keras.optimizers.SGD(learning_rate=lr_schedule, momentum=0.8),\n",
    "              metrics=['acc'])\n",
    "model1.summary()"
   ]
  },
  {
   "cell_type": "code",
   "execution_count": 45,
   "metadata": {},
   "outputs": [
    {
     "name": "stdout",
     "output_type": "stream",
     "text": [
      "Epoch 1/5\n",
      "17255/17255 [==============================] - 119s 7ms/step - loss: 0.0311 - acc: 0.7516 - val_loss: 0.0189 - val_acc: 0.8338\n",
      "Epoch 2/5\n",
      "17255/17255 [==============================] - 116s 7ms/step - loss: 0.0210 - acc: 0.8235 - val_loss: 0.0151 - val_acc: 0.8329\n",
      "Epoch 3/5\n",
      "17255/17255 [==============================] - 116s 7ms/step - loss: 0.0183 - acc: 0.8353 - val_loss: 0.0136 - val_acc: 0.8414\n",
      "Epoch 4/5\n",
      "17255/17255 [==============================] - 116s 7ms/step - loss: 0.0168 - acc: 0.8414 - val_loss: 0.0124 - val_acc: 0.8372\n",
      "Epoch 5/5\n",
      "17255/17255 [==============================] - 116s 7ms/step - loss: 0.0158 - acc: 0.8480 - val_loss: 0.0116 - val_acc: 0.8570\n"
     ]
    }
   ],
   "source": [
    "modelhistory = model1.fit(X_train, Y_train, epochs=5, verbose=1, validation_split=0.2, batch_size = 16)"
   ]
  },
  {
   "cell_type": "code",
   "execution_count": 46,
   "metadata": {},
   "outputs": [
    {
     "data": {
      "image/png": "[encoded data removed]",
      "text/plain": [
       "<Figure size 432x288 with 1 Axes>"
      ]
     },
     "metadata": {
      "needs_background": "light"
     },
     "output_type": "display_data"
    },
    {
     "data": {
      "image/png": "[encoded data removed]",
      "text/plain": [
       "<Figure size 432x288 with 1 Axes>"
      ]
     },
     "metadata": {
      "needs_background": "light"
     },
     "output_type": "display_data"
    }
   ],
   "source": [
    "# Plot of accuracy vs epoch for train and test dataset\n",
    "plt.plot(modelhistory.history['acc'])\n",
    "plt.plot(modelhistory.history['val_acc'])\n",
    "plt.title(\"Plot of accuracy vs epoch for train and test dataset\")\n",
    "plt.ylabel('accuracy')\n",
    "plt.xlabel('epoch')\n",
    "plt.show()\n",
    "\n",
    "# Plot of loss vs epoch for train and test dataset\n",
    "plt.plot(modelhistory.history['loss'])\n",
    "plt.plot(modelhistory.history['val_loss'])\n",
    "plt.title(\"Plot of loss vs epoch for train and test dataset\")\n",
    "plt.ylabel('loss')\n",
    "plt.xlabel('epoch')\n",
    "plt.legend(['train', 'test'], loc='upper right')\n",
    "plt.show()"
   ]
  },
  {
   "cell_type": "code",
   "execution_count": 47,
   "metadata": {},
   "outputs": [
    {
     "name": "stdout",
     "output_type": "stream",
     "text": [
      "2697/2697 [==============================] - 6s 2ms/step\n"
     ]
    }
   ],
   "source": [
    "y_pred = model1.predict(X_test, verbose=1)\n",
    "y_pred = np.argmax(y_pred,axis=1)\n",
    "\n",
    "#y_prob = cnnmodel.predict_proba(X_test)[:, 1]\n",
    "\n",
    "ense_acc = accuracy_score(y_pred, y_test)\n",
    "ense_prec = precision_score(y_pred, y_test,average='weighted')\n",
    "ense_rec = recall_score(y_pred, y_test,average='weighted')\n",
    "ense_f1 = f1_score(y_pred, y_test,average='weighted')"
   ]
  },
  {
   "cell_type": "code",
   "execution_count": 100,
   "metadata": {},
   "outputs": [],
   "source": [
    "storeResults('CNN + LSTM',ense_acc,ense_prec,ense_rec,ense_f1)"
   ]
  },
  {
   "cell_type": "markdown",
   "metadata": {},
   "source": [
    "# FNN"
   ]
  },
  {
   "cell_type": "code",
   "execution_count": 49,
   "metadata": {},
   "outputs": [],
   "source": [
    "from tensorflow.keras import models, layers, optimizers, regularizers\n",
    "import numpy as np\n",
    "import random\n",
    "from sklearn import model_selection, preprocessing\n",
    "import tensorflow as tf\n",
    "from tqdm import tqdm"
   ]
  },
  {
   "cell_type": "code",
   "execution_count": 50,
   "metadata": {},
   "outputs": [],
   "source": [
    "# splitting the dataset 80% for training and 20% testing\n",
    "X_train, X_test, y_train, y_test = train_test_split(X_reduced,y, test_size=0.20, random_state=42)"
   ]
  },
  {
   "cell_type": "code",
   "execution_count": 51,
   "metadata": {},
   "outputs": [],
   "source": [
    "x_train = preprocessing.normalize(X_train)\n",
    "x_test = preprocessing.normalize(X_test)"
   ]
  },
  {
   "cell_type": "code",
   "execution_count": 52,
   "metadata": {},
   "outputs": [],
   "source": [
    "hidden_units = 10     # how many neurons in the hidden layer\n",
    "activation = 'relu'   # activation function for hidden layer\n",
    "l2 = 0.01             # regularization - how much we penalize large parameter values\n",
    "learning_rate = 0.01  # how big our steps are in gradient descent\n",
    "epochs = 5            # how many epochs to train for\n",
    "batch_size = 2       # how many samples to use for each gradient descent update"
   ]
  },
  {
   "cell_type": "code",
   "execution_count": 53,
   "metadata": {},
   "outputs": [],
   "source": [
    "# create a sequential model\n",
    "model2 = models.Sequential()\n",
    "\n",
    "# add the hidden layer\n",
    "model2.add(layers.Dense(input_dim=8,\n",
    "                       units=hidden_units, \n",
    "                       activation=activation))\n",
    "\n",
    "# add the output layer\n",
    "model2.add(layers.Dense(input_dim=hidden_units,\n",
    "                       units=1,\n",
    "                       activation='sigmoid'))\n",
    "\n",
    "# define our loss function and optimizer\n",
    "model2.compile(loss='binary_crossentropy',\n",
    "              # Adam is a kind of gradient descent\n",
    "              optimizer=optimizers.Adam(lr=learning_rate),\n",
    "              metrics=['accuracy'])"
   ]
  },
  {
   "cell_type": "code",
   "execution_count": 54,
   "metadata": {},
   "outputs": [
    {
     "name": "stdout",
     "output_type": "stream",
     "text": [
      "Model: \"sequential_1\"\n",
      "_________________________________________________________________\n",
      "Layer (type)                 Output Shape              Param #   \n",
      "=================================================================\n",
      "dense_3 (Dense)              (None, 10)                90        \n",
      "_________________________________________________________________\n",
      "dense_4 (Dense)              (None, 1)                 11        \n",
      "=================================================================\n",
      "Total params: 101\n",
      "Trainable params: 101\n",
      "Non-trainable params: 0\n",
      "_________________________________________________________________\n"
     ]
    }
   ],
   "source": [
    "model2.summary()"
   ]
  },
  {
   "cell_type": "code",
   "execution_count": 55,
   "metadata": {},
   "outputs": [
    {
     "name": "stdout",
     "output_type": "stream",
     "text": [
      "Epoch 1/5\n",
      "1000/1000 [==============================] - 2s 2ms/step - loss: -4111.9512 - accuracy: 0.0075\n",
      "Epoch 2/5\n",
      "1000/1000 [==============================] - 2s 2ms/step - loss: -25804.9316 - accuracy: 0.0075\n",
      "Epoch 3/5\n",
      "1000/1000 [==============================] - 2s 2ms/step - loss: -66352.0547 - accuracy: 0.0085\n",
      "Epoch 4/5\n",
      "1000/1000 [==============================] - 2s 2ms/step - loss: -123825.2344 - accuracy: 0.0055\n",
      "Epoch 5/5\n",
      "1000/1000 [==============================] - 2s 2ms/step - loss: -192600.6719 - accuracy: 0.0075\n"
     ]
    }
   ],
   "source": [
    "history = model2.fit(x_train, y_train, epochs=5, batch_size=batch_size,steps_per_epoch=1000, validation_steps=1000)"
   ]
  },
  {
   "cell_type": "code",
   "execution_count": 56,
   "metadata": {},
   "outputs": [
    {
     "data": {
      "image/png": "[encoded data removed]",
      "text/plain": [
       "<Figure size 432x288 with 1 Axes>"
      ]
     },
     "metadata": {
      "needs_background": "light"
     },
     "output_type": "display_data"
    },
    {
     "data": {
      "image/png": "[encoded data removed]",
      "text/plain": [
       "<Figure size 432x288 with 1 Axes>"
      ]
     },
     "metadata": {
      "needs_background": "light"
     },
     "output_type": "display_data"
    }
   ],
   "source": [
    "# Plot of accuracy vs epoch for train and test dataset\n",
    "plt.plot(history.history['accuracy'])\n",
    "#plt.plot(history.history['val_accuracy'])\n",
    "plt.title(\"Plot of accuracy vs epoch for train and test dataset\")\n",
    "plt.ylabel('accuracy')\n",
    "plt.xlabel('epoch')\n",
    "plt.show()\n",
    "\n",
    "# Plot of loss vs epoch for train and test dataset\n",
    "plt.plot(history.history['loss'])\n",
    "#plt.plot(history.history['val_loss'])\n",
    "plt.title(\"Plot of loss vs epoch for train and test dataset\")\n",
    "plt.ylabel('loss')\n",
    "plt.xlabel('epoch')\n",
    "plt.legend(['train', 'test'], loc='upper right')\n",
    "plt.show()"
   ]
  },
  {
   "cell_type": "code",
   "execution_count": 57,
   "metadata": {},
   "outputs": [
    {
     "name": "stdout",
     "output_type": "stream",
     "text": [
      "2697/2697 [==============================] - 1s 340us/step\n"
     ]
    }
   ],
   "source": [
    "y_pred = model2.predict(X_test, verbose=1)\n",
    "y_pred = np.argmax(y_pred,axis=1)\n",
    "\n",
    "#y_prob = cnnmodel.predict_proba(X_test)[:, 1]\n",
    "\n",
    "dnn_acc = accuracy_score(y_pred, y_test)\n",
    "dnn_prec = precision_score(y_pred, y_test,average='weighted')\n",
    "dnn_rec = recall_score(y_pred, y_test,average='weighted')\n",
    "dnn_f1 = f1_score(y_pred, y_test,average='weighted')"
   ]
  },
  {
   "cell_type": "code",
   "execution_count": 101,
   "metadata": {},
   "outputs": [],
   "source": [
    "storeResults('FNN',dnn_acc,dnn_prec,dnn_rec,dnn_f1)"
   ]
  },
  {
   "cell_type": "markdown",
   "metadata": {},
   "source": [
    "# Transformer LSTM"
   ]
  },
  {
   "cell_type": "code",
   "execution_count": 59,
   "metadata": {},
   "outputs": [],
   "source": [
    "from sklearn.preprocessing import MinMaxScaler\n",
    "import joblib\n",
    "import seaborn as sns\n",
    "sns.set(color_codes=True)\n",
    "import matplotlib.pyplot as plt\n",
    "%matplotlib inline\n",
    "\n",
    "from numpy.random import seed\n",
    "\n",
    "import tensorflow as tf\n",
    "\n",
    "from keras.layers import Input, Dropout, Dense, LSTM, TimeDistributed, RepeatVector\n",
    "from keras.models import Model\n",
    "from keras import regularizers"
   ]
  },
  {
   "cell_type": "code",
   "execution_count": 60,
   "metadata": {},
   "outputs": [],
   "source": [
    "from sklearn.model_selection import train_test_split\n",
    "x_train1, x_test1 = train_test_split(X_reduced, test_size = 0.2, random_state = 0)\n",
    "\n",
    "y_train1, y_test1 = train_test_split(y, test_size = 0.2, random_state = 0)"
   ]
  },
  {
   "cell_type": "code",
   "execution_count": 61,
   "metadata": {},
   "outputs": [
    {
     "data": {
      "text/plain": [
       "['scaler_data']"
      ]
     },
     "execution_count": 61,
     "metadata": {},
     "output_type": "execute_result"
    }
   ],
   "source": [
    "# normalize the data\n",
    "scaler = MinMaxScaler()\n",
    "x_train = scaler.fit_transform(x_train1)\n",
    "x_test = scaler.transform(x_test1)\n",
    "scaler_filename = \"scaler_data\"\n",
    "joblib.dump(scaler, scaler_filename)"
   ]
  },
  {
   "cell_type": "code",
   "execution_count": 62,
   "metadata": {},
   "outputs": [
    {
     "name": "stdout",
     "output_type": "stream",
     "text": [
      "Training data shape: (345096, 1, 8)\n",
      "Test data shape: (86275, 1, 8)\n"
     ]
    }
   ],
   "source": [
    "# reshape inputs for LSTM [samples, timesteps, features]\n",
    "X_train1 = x_train.reshape(x_train.shape[0], 1, x_train.shape[1])\n",
    "print(\"Training data shape:\", X_train1.shape)\n",
    "X_test1 = x_test.reshape(x_test.shape[0], 1, x_test.shape[1])\n",
    "print(\"Test data shape:\", X_test1.shape)"
   ]
  },
  {
   "cell_type": "code",
   "execution_count": 63,
   "metadata": {},
   "outputs": [],
   "source": [
    "# define the autoencoder network model\n",
    "def autoencoder_model(X):\n",
    "    inputs = Input(shape=(X.shape[1], X.shape[2]))\n",
    "    L1 = LSTM(16, activation='relu', return_sequences=True, \n",
    "              kernel_regularizer=regularizers.l2(0.00))(inputs)\n",
    "    L2 = LSTM(4, activation='relu', return_sequences=False)(L1)\n",
    "    L3 = RepeatVector(X.shape[1])(L2)\n",
    "    L4 = LSTM(4, activation='relu', return_sequences=True)(L3)\n",
    "    L5 = LSTM(16, activation='relu', return_sequences=True)(L4)\n",
    "    output = TimeDistributed(Dense(X.shape[2]))(L5)    \n",
    "    model = Model(inputs=inputs, outputs=output)\n",
    "    return model"
   ]
  },
  {
   "cell_type": "code",
   "execution_count": 64,
   "metadata": {},
   "outputs": [
    {
     "name": "stdout",
     "output_type": "stream",
     "text": [
      "WARNING:tensorflow:Layer lstm will not use cuDNN kernels since it doesn't meet the criteria. It will use a generic GPU kernel as fallback when running on GPU.\n",
      "WARNING:tensorflow:Layer lstm_1 will not use cuDNN kernels since it doesn't meet the criteria. It will use a generic GPU kernel as fallback when running on GPU.\n",
      "WARNING:tensorflow:Layer lstm_2 will not use cuDNN kernels since it doesn't meet the criteria. It will use a generic GPU kernel as fallback when running on GPU.\n",
      "WARNING:tensorflow:Layer lstm_3 will not use cuDNN kernels since it doesn't meet the criteria. It will use a generic GPU kernel as fallback when running on GPU.\n",
      "Model: \"model\"\n",
      "_________________________________________________________________\n",
      "Layer (type)                 Output Shape              Param #   \n",
      "=================================================================\n",
      "input_1 (InputLayer)         [(None, 1, 8)]            0         \n",
      "_________________________________________________________________\n",
      "lstm (LSTM)                  (None, 1, 16)             1600      \n",
      "_________________________________________________________________\n",
      "lstm_1 (LSTM)                (None, 4)                 336       \n",
      "_________________________________________________________________\n",
      "repeat_vector (RepeatVector) (None, 1, 4)              0         \n",
      "_________________________________________________________________\n",
      "lstm_2 (LSTM)                (None, 1, 4)              144       \n",
      "_________________________________________________________________\n",
      "lstm_3 (LSTM)                (None, 1, 16)             1344      \n",
      "_________________________________________________________________\n",
      "time_distributed (TimeDistri (None, 1, 8)              136       \n",
      "=================================================================\n",
      "Total params: 3,560\n",
      "Trainable params: 3,560\n",
      "Non-trainable params: 0\n",
      "_________________________________________________________________\n"
     ]
    }
   ],
   "source": [
    "# create the autoencoder model\n",
    "model_tl = autoencoder_model(X_train1)\n",
    "model_tl.compile(optimizer='adam', loss='mae')\n",
    "model_tl.summary()"
   ]
  },
  {
   "cell_type": "code",
   "execution_count": 65,
   "metadata": {},
   "outputs": [
    {
     "name": "stdout",
     "output_type": "stream",
     "text": [
      "Epoch 1/5\n",
      "1000/1000 [==============================] - 26s 21ms/step - loss: 0.0706 - val_loss: 0.0094\n",
      "Epoch 2/5\n",
      "1000/1000 [==============================] - 20s 20ms/step - loss: 0.0097 - val_loss: 0.0089\n",
      "Epoch 3/5\n",
      "1000/1000 [==============================] - 20s 20ms/step - loss: 0.0080 - val_loss: 0.0092\n",
      "Epoch 4/5\n",
      "1000/1000 [==============================] - 20s 20ms/step - loss: 0.0086 - val_loss: 0.0089\n",
      "Epoch 5/5\n",
      "1000/1000 [==============================] - 20s 20ms/step - loss: 0.0082 - val_loss: 0.0082\n"
     ]
    }
   ],
   "source": [
    "nb_epochs = 5\n",
    "batch_size = 2\n",
    "history = model_tl.fit(X_train1, X_train1, epochs=nb_epochs, batch_size=batch_size,validation_split=0.05,steps_per_epoch=1000, validation_steps=1000).history"
   ]
  },
  {
   "cell_type": "code",
   "execution_count": 66,
   "metadata": {},
   "outputs": [
    {
     "data": {
      "image/png": "[encoded data removed]",
      "text/plain": [
       "<Figure size 1120x480 with 1 Axes>"
      ]
     },
     "metadata": {
      "needs_background": "light"
     },
     "output_type": "display_data"
    }
   ],
   "source": [
    "# plot the training losses\n",
    "fig, ax = plt.subplots(figsize=(14, 6), dpi=80)\n",
    "ax.plot(history['loss'], 'b', label='Train', linewidth=2)\n",
    "ax.plot(history['val_loss'], 'r', label='Validation', linewidth=2)\n",
    "ax.set_title('Model loss', fontsize=16)\n",
    "ax.set_ylabel('Loss (mae)')\n",
    "ax.set_xlabel('Epoch')\n",
    "ax.legend(loc='upper right')\n",
    "plt.show()"
   ]
  },
  {
   "cell_type": "code",
   "execution_count": 91,
   "metadata": {},
   "outputs": [],
   "source": [
    "y_pred=model2.predict(X_test)\n",
    "\n",
    "tl_acc = 1 - history['loss'][0]\n",
    "tl_prec = precision_score(y_pred, y_test,average='weighted')\n",
    "tl_rec = recall_score(y_pred, y_test,average='weighted')\n",
    "tl_f1 = f1_score(y_pred, y_test,average='weighted')"
   ]
  },
  {
   "cell_type": "code",
   "execution_count": 102,
   "metadata": {},
   "outputs": [],
   "source": [
    "storeResults('Transformer LSTM',tl_acc,tl_prec,tl_rec,tl_f1)"
   ]
  },
  {
   "cell_type": "markdown",
   "metadata": {},
   "source": [
    "# Transformer - Encoder and Decoder"
   ]
  },
  {
   "cell_type": "code",
   "execution_count": 69,
   "metadata": {},
   "outputs": [],
   "source": [
    "X_train, X_test, y_train, y_test = train_test_split(X_reduced, y, test_size=0.33, random_state=1)"
   ]
  },
  {
   "cell_type": "code",
   "execution_count": 70,
   "metadata": {},
   "outputs": [],
   "source": [
    "import matplotlib.pyplot as plt\n",
    "n_train = np.array(X_train)\n",
    "n_test = np.array(X_test)"
   ]
  },
  {
   "cell_type": "code",
   "execution_count": 71,
   "metadata": {},
   "outputs": [
    {
     "name": "stdout",
     "output_type": "stream",
     "text": [
      "8\n",
      "(289018, 8)\n"
     ]
    },
    {
     "data": {
      "image/png": "[encoded data removed]",
      "text/plain": [
       "<Figure size 432x288 with 1 Axes>"
      ]
     },
     "metadata": {
      "needs_background": "light"
     },
     "output_type": "display_data"
    }
   ],
   "source": [
    "from keras.layers import Input, Dense\n",
    "from keras.models import Model\n",
    "import tensorflow as tf\n",
    "\n",
    "input_dim = n_train.shape[1]\n",
    "feature_dim = [25, 20, 15, 10]\n",
    "print(input_dim)\n",
    "inputs = Input(shape=(input_dim,))\n",
    "encoded = inputs\n",
    "encoded = Dense(feature_dim[0], kernel_initializer=\"uniform\")(encoded)\n",
    "encoded = Dense(feature_dim[1], kernel_initializer=\"uniform\")(encoded)\n",
    "encoded = Dense(feature_dim[2], kernel_initializer=\"uniform\")(encoded)\n",
    "encoded = Dense(feature_dim[3], kernel_initializer=\"uniform\")(encoded)\n",
    "\n",
    "decoded = encoded\n",
    "decoded = Dense(feature_dim[2], kernel_initializer=\"uniform\")(decoded)\n",
    "decoded = Dense(feature_dim[1], kernel_initializer=\"uniform\")(decoded)\n",
    "decoded = Dense(feature_dim[0], kernel_initializer=\"uniform\")(decoded)\n",
    "decoded = Dense(input_dim, kernel_initializer=\"uniform\")(decoded)\n",
    "\n",
    "\n",
    "autoencoder = Model(inputs, decoded)\n",
    "autoencoder.compile(optimizer='adadelta', loss='mse')\n",
    "\n",
    "autoencoder.fit(n_train, n_train,\n",
    "                verbose=0,\n",
    "                epochs=5,\n",
    "                batch_size=2,\n",
    "                shuffle=True,\n",
    "                validation_data=(n_test, n_test),\n",
    "               steps_per_epoch=500,\n",
    "               validation_steps=500)\n",
    "\n",
    "predict_vals = autoencoder.predict(n_train)\n",
    "print(predict_vals.shape)\n",
    "plt.plot(predict_vals)\n",
    "plt.show()"
   ]
  },
  {
   "cell_type": "code",
   "execution_count": 72,
   "metadata": {},
   "outputs": [],
   "source": [
    "from keras.models import Sequential\n",
    "\n",
    "featuremodel = Sequential()\n",
    "featuremodel.add(Dense(feature_dim[0], input_shape=(input_dim,), weights=autoencoder.layers[1].get_weights()))\n",
    "featuremodel.add(Dense(feature_dim[1], weights=autoencoder.layers[2].get_weights()))\n",
    "featuremodel.add(Dense(feature_dim[2], weights=autoencoder.layers[3].get_weights()))\n",
    "featuremodel.add(Dense(feature_dim[3], weights=autoencoder.layers[4].get_weights()))\n",
    "\n",
    "featuremodel.compile(optimizer='adadelta', loss='mse')"
   ]
  },
  {
   "cell_type": "code",
   "execution_count": 73,
   "metadata": {},
   "outputs": [
    {
     "name": "stdout",
     "output_type": "stream",
     "text": [
      "4449/4449 [==============================] - 4s 945us/step\n"
     ]
    }
   ],
   "source": [
    "y_pred = autoencoder.predict(X_test, verbose=1)\n",
    "y_pred = np.argmax(y_pred,axis=1)\n",
    "\n",
    "#y_prob = cnnmodel.predict_proba(X_test)[:, 1]\n",
    "\n",
    "ende_acc = accuracy_score(y_pred, y_test)\n",
    "ende_prec = precision_score(y_pred, y_test,average='weighted')\n",
    "ende_rec = recall_score(y_pred, y_test,average='weighted')\n",
    "ende_f1 = f1_score(y_pred, y_test,average='weighted')"
   ]
  },
  {
   "cell_type": "code",
   "execution_count": 103,
   "metadata": {},
   "outputs": [],
   "source": [
    "storeResults('Transformer Encode-Decode',ende_acc,ende_prec,ende_rec,ende_f1)"
   ]
  },
  {
   "cell_type": "markdown",
   "metadata": {},
   "source": [
    "# Comparison"
   ]
  },
  {
   "cell_type": "code",
   "execution_count": 104,
   "metadata": {},
   "outputs": [],
   "source": [
    "#creating dataframe\n",
    "result = pd.DataFrame({ 'ML Model' : ML_Model,\n",
    "                        'Accuracy' : accuracy,\n",
    "                        'Precision': precision,\n",
    "                        'Recall'   : recall,\n",
    "                        'F1-Score': f1score\n",
    "                      })"
   ]
  },
  {
   "cell_type": "code",
   "execution_count": 105,
   "metadata": {},
   "outputs": [
    {
     "data": {
      "text/html": [
       "<div>\n",
       "<style scoped>\n",
       "    .dataframe tbody tr th:only-of-type {\n",
       "        vertical-align: middle;\n",
       "    }\n",
       "\n",
       "    .dataframe tbody tr th {\n",
       "        vertical-align: top;\n",
       "    }\n",
       "\n",
       "    .dataframe thead th {\n",
       "        text-align: right;\n",
       "    }\n",
       "</style>\n",
       "<table border=\"1\" class=\"dataframe\">\n",
       "  <thead>\n",
       "    <tr style=\"text-align: right;\">\n",
       "      <th></th>\n",
       "      <th>ML Model</th>\n",
       "      <th>Accuracy</th>\n",
       "      <th>Precision</th>\n",
       "      <th>Recall</th>\n",
       "      <th>F1-Score</th>\n",
       "    </tr>\n",
       "  </thead>\n",
       "  <tbody>\n",
       "    <tr>\n",
       "      <th>0</th>\n",
       "      <td>SVM</td>\n",
       "      <td>0.790</td>\n",
       "      <td>0.845</td>\n",
       "      <td>0.790</td>\n",
       "      <td>0.813</td>\n",
       "    </tr>\n",
       "    <tr>\n",
       "      <th>1</th>\n",
       "      <td>Bagging Classifier</td>\n",
       "      <td>0.918</td>\n",
       "      <td>0.968</td>\n",
       "      <td>0.918</td>\n",
       "      <td>0.938</td>\n",
       "    </tr>\n",
       "    <tr>\n",
       "      <th>2</th>\n",
       "      <td>Voting Classifier</td>\n",
       "      <td>1.000</td>\n",
       "      <td>0.972</td>\n",
       "      <td>0.921</td>\n",
       "      <td>0.941</td>\n",
       "    </tr>\n",
       "    <tr>\n",
       "      <th>3</th>\n",
       "      <td>LSTM</td>\n",
       "      <td>0.227</td>\n",
       "      <td>1.000</td>\n",
       "      <td>0.227</td>\n",
       "      <td>0.371</td>\n",
       "    </tr>\n",
       "    <tr>\n",
       "      <th>4</th>\n",
       "      <td>RNN</td>\n",
       "      <td>0.227</td>\n",
       "      <td>1.000</td>\n",
       "      <td>0.227</td>\n",
       "      <td>0.371</td>\n",
       "    </tr>\n",
       "    <tr>\n",
       "      <th>5</th>\n",
       "      <td>CNN + LSTM</td>\n",
       "      <td>0.861</td>\n",
       "      <td>0.939</td>\n",
       "      <td>0.861</td>\n",
       "      <td>0.893</td>\n",
       "    </tr>\n",
       "    <tr>\n",
       "      <th>6</th>\n",
       "      <td>FNN</td>\n",
       "      <td>0.227</td>\n",
       "      <td>1.000</td>\n",
       "      <td>0.227</td>\n",
       "      <td>0.371</td>\n",
       "    </tr>\n",
       "    <tr>\n",
       "      <th>7</th>\n",
       "      <td>Transformer LSTM</td>\n",
       "      <td>0.959</td>\n",
       "      <td>1.000</td>\n",
       "      <td>0.009</td>\n",
       "      <td>0.017</td>\n",
       "    </tr>\n",
       "    <tr>\n",
       "      <th>8</th>\n",
       "      <td>Transformer Encode-Decode</td>\n",
       "      <td>0.001</td>\n",
       "      <td>1.000</td>\n",
       "      <td>0.001</td>\n",
       "      <td>0.003</td>\n",
       "    </tr>\n",
       "  </tbody>\n",
       "</table>\n",
       "</div>"
      ],
      "text/plain": [
       "                    ML Model  Accuracy  Precision  Recall  F1-Score\n",
       "0                        SVM     0.790      0.845   0.790     0.813\n",
       "1         Bagging Classifier     0.918      0.968   0.918     0.938\n",
       "2          Voting Classifier     1.000      0.972   0.921     0.941\n",
       "3                       LSTM     0.227      1.000   0.227     0.371\n",
       "4                        RNN     0.227      1.000   0.227     0.371\n",
       "5                 CNN + LSTM     0.861      0.939   0.861     0.893\n",
       "6                        FNN     0.227      1.000   0.227     0.371\n",
       "7           Transformer LSTM     0.959      1.000   0.009     0.017\n",
       "8  Transformer Encode-Decode     0.001      1.000   0.001     0.003"
      ]
     },
     "execution_count": 105,
     "metadata": {},
     "output_type": "execute_result"
    }
   ],
   "source": [
    "result"
   ]
  },
  {
   "cell_type": "markdown",
   "metadata": {},
   "source": [
    "# MOdelling"
   ]
  },
  {
   "cell_type": "code",
   "execution_count": 106,
   "metadata": {},
   "outputs": [
    {
     "data": {
      "text/plain": [
       "['model_cicids2019.sav']"
      ]
     },
     "execution_count": 106,
     "metadata": {},
     "output_type": "execute_result"
    }
   ],
   "source": [
    "import joblib\n",
    "filename = 'model_cicids2019.sav'\n",
    "joblib.dump(eclf1, filename)"
   ]
  },
  {
   "cell_type": "markdown",
   "metadata": {},
   "source": [
    "# Graph"
   ]
  },
  {
   "cell_type": "code",
   "execution_count": 107,
   "metadata": {},
   "outputs": [],
   "source": [
    "classifier = ML_Model\n",
    "y_pos = np.arange(len(classifier))"
   ]
  },
  {
   "cell_type": "markdown",
   "metadata": {},
   "source": [
    "# Accuracy"
   ]
  },
  {
   "cell_type": "code",
   "execution_count": 108,
   "metadata": {},
   "outputs": [
    {
     "data": {
      "image/png": "[encoded data removed]",
      "text/plain": [
       "<Figure size 432x288 with 1 Axes>"
      ]
     },
     "metadata": {
      "needs_background": "light"
     },
     "output_type": "display_data"
    }
   ],
   "source": [
    "import matplotlib.pyplot as plt2\n",
    "plt2.barh(y_pos, accuracy, align='center', alpha=0.5,color='blue')\n",
    "plt2.yticks(y_pos, classifier)\n",
    "plt2.xlabel('Accuracy Score')\n",
    "plt2.title('Classification Performance')\n",
    "plt2.show()"
   ]
  },
  {
   "cell_type": "markdown",
   "metadata": {},
   "source": [
    "# Precision"
   ]
  },
  {
   "cell_type": "code",
   "execution_count": 109,
   "metadata": {},
   "outputs": [
    {
     "data": {
      "image/png": "[encoded data removed]",
      "text/plain": [
       "<Figure size 432x288 with 1 Axes>"
      ]
     },
     "metadata": {
      "needs_background": "light"
     },
     "output_type": "display_data"
    }
   ],
   "source": [
    "plt2.barh(y_pos, precision, align='center', alpha=0.5,color='red')\n",
    "plt2.yticks(y_pos, classifier)\n",
    "plt2.xlabel('Precision Score')\n",
    "plt2.title('Classification Performance')\n",
    "plt2.show()"
   ]
  },
  {
   "cell_type": "markdown",
   "metadata": {},
   "source": [
    "# Recall"
   ]
  },
  {
   "cell_type": "code",
   "execution_count": 110,
   "metadata": {},
   "outputs": [
    {
     "data": {
      "image/png": "[encoded data removed]",
      "text/plain": [
       "<Figure size 432x288 with 1 Axes>"
      ]
     },
     "metadata": {
      "needs_background": "light"
     },
     "output_type": "display_data"
    }
   ],
   "source": [
    "plt2.barh(y_pos, recall, align='center', alpha=0.5,color='cyan')\n",
    "plt2.yticks(y_pos, classifier)\n",
    "plt2.xlabel('Recall Score')\n",
    "plt2.title('Classification Performance')\n",
    "plt2.show()"
   ]
  },
  {
   "cell_type": "markdown",
   "metadata": {},
   "source": [
    "# F1 Score"
   ]
  },
  {
   "cell_type": "code",
   "execution_count": 111,
   "metadata": {},
   "outputs": [
    {
     "data": {
      "image/png": "[encoded data removed]",
      "text/plain": [
       "<Figure size 432x288 with 1 Axes>"
      ]
     },
     "metadata": {
      "needs_background": "light"
     },
     "output_type": "display_data"
    }
   ],
   "source": [
    "plt2.barh(y_pos, f1score, align='center', alpha=0.5,color='magenta')\n",
    "plt2.yticks(y_pos, classifier)\n",
    "plt2.xlabel('F1 Score')\n",
    "plt2.title('Classification Performance')\n",
    "plt2.show()"
   ]
  },
  {
   "cell_type": "code",
   "execution_count": null,
   "metadata": {},
   "outputs": [],
   "source": []
  }
 ],
 "metadata": {
  "kaggle": {
   "accelerator": "none",
   "dataSources": [
    {
     "datasetId": 464228,
     "sourceId": 872432,
     "sourceType": "datasetVersion"
    }
   ],
   "dockerImageVersionId": 30635,
   "isGpuEnabled": false,
   "isInternetEnabled": true,
   "language": "python",
   "sourceType": "notebook"
  },
  "kernelspec": {
   "display_name": "Python 3",
   "language": "python",
   "name": "python3"
  },
  "language_info": {
   "codemirror_mode": {
    "name": "ipython",
    "version": 3
   },
   "file_extension": ".py",
   "mimetype": "text/x-python",
   "name": "python",
   "nbconvert_exporter": "python",
   "pygments_lexer": "ipython3",
   "version": "3.7.4"
  }
 },
 "nbformat": 4,
 "nbformat_minor": 4
}
