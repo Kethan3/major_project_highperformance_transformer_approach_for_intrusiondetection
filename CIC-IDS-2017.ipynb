{
 "cells": [
  {
   "cell_type": "code",
   "execution_count": 10,
   "metadata": {},
   "outputs": [],
   "source": [
    "import warnings\n",
    "warnings.filterwarnings('ignore')"
   ]
  },
  {
   "cell_type": "code",
   "execution_count": 11,
   "metadata": {
    "_cell_guid": "b1076dfc-b9ad-4769-8c92-a6c4dae69d19",
    "_uuid": "8f2839f25d086af736a60e9eeb907d3b93b6e0e5",
    "execution": {
     "iopub.execute_input": "2024-02-06T21:08:32.011141Z",
     "iopub.status.busy": "2024-02-06T21:08:32.010741Z",
     "iopub.status.idle": "2024-02-06T21:08:37.957850Z",
     "shell.execute_reply": "2024-02-06T21:08:37.956848Z",
     "shell.execute_reply.started": "2024-02-06T21:08:32.011108Z"
    }
   },
   "outputs": [],
   "source": [
    "import numpy as np \n",
    "import pandas as pd\n",
    "pd.set_option('display.max_columns', None)\n",
    "pd.set_option('display.max_rows', 80)\n",
    "\n",
    "from sklearn.preprocessing import LabelEncoder\n",
    "import time"
   ]
  },
  {
   "cell_type": "code",
   "execution_count": 12,
   "metadata": {
    "execution": {
     "iopub.execute_input": "2024-02-06T21:08:37.959848Z",
     "iopub.status.busy": "2024-02-06T21:08:37.959357Z",
     "iopub.status.idle": "2024-02-06T21:09:11.400225Z",
     "shell.execute_reply": "2024-02-06T21:09:11.399362Z",
     "shell.execute_reply.started": "2024-02-06T21:08:37.959820Z"
    }
   },
   "outputs": [],
   "source": [
    "df_1 = pd.read_csv('CIC-IDS-2017/Friday-WorkingHours-Afternoon-DDos.pcap_ISCX.csv')\n",
    "df_2 = pd.read_csv('CIC-IDS-2017/Friday-WorkingHours-Afternoon-PortScan.pcap_ISCX.csv')\n",
    "df_3 = pd.read_csv('CIC-IDS-2017/Friday-WorkingHours-Morning.pcap_ISCX.csv')\n",
    "df_4 = pd.read_csv('CIC-IDS-2017/Monday-WorkingHours.pcap_ISCX.csv')\n",
    "df_5 = pd.read_csv('CIC-IDS-2017/Thursday-WorkingHours-Afternoon-Infilteration.pcap_ISCX.csv')\n",
    "df_6 = pd.read_csv('CIC-IDS-2017/Thursday-WorkingHours-Morning-WebAttacks.pcap_ISCX.csv')\n",
    "df_7 = pd.read_csv('CIC-IDS-2017/Tuesday-WorkingHours.pcap_ISCX.csv')\n",
    "df_8 = pd.read_csv('CIC-IDS-2017/Wednesday-workingHours.pcap_ISCX.csv')"
   ]
  },
  {
   "cell_type": "code",
   "execution_count": 13,
   "metadata": {},
   "outputs": [],
   "source": [
    "df_1 = df_1[0:20000]"
   ]
  },
  {
   "cell_type": "code",
   "execution_count": 14,
   "metadata": {},
   "outputs": [],
   "source": [
    "df_2 = df_2[50000:100000]"
   ]
  },
  {
   "cell_type": "code",
   "execution_count": 15,
   "metadata": {},
   "outputs": [],
   "source": [
    "df_3 = df_3[50000:100000]"
   ]
  },
  {
   "cell_type": "markdown",
   "metadata": {},
   "source": [
    "# Data Preprocessing"
   ]
  },
  {
   "cell_type": "code",
   "execution_count": 16,
   "metadata": {
    "execution": {
     "iopub.execute_input": "2024-02-06T21:09:11.401542Z",
     "iopub.status.busy": "2024-02-06T21:09:11.401274Z",
     "iopub.status.idle": "2024-02-06T21:09:11.406821Z",
     "shell.execute_reply": "2024-02-06T21:09:11.405837Z",
     "shell.execute_reply.started": "2024-02-06T21:09:11.401520Z"
    }
   },
   "outputs": [
    {
     "name": "stdout",
     "output_type": "stream",
     "text": [
      "df_1: (20000, 79)\n",
      "df_2: (50000, 79)\n",
      "df_3: (50000, 79)\n",
      "df_4: (529918, 79)\n",
      "df_5: (288602, 79)\n",
      "df_6: (170366, 79)\n",
      "df_7: (445909, 79)\n",
      "df_8: (692703, 79)\n"
     ]
    }
   ],
   "source": [
    "# get shapes of each dataframe's\n",
    "for i in range(1, 9):\n",
    "    df_name = f'df_{i}'\n",
    "    current_df = globals()[df_name]\n",
    "    print(f\"{df_name}: {current_df.shape}\")"
   ]
  },
  {
   "cell_type": "markdown",
   "metadata": {},
   "source": [
    "## 1.1 Data Concatenation, dropping of duplicated rows and features with constant values"
   ]
  },
  {
   "cell_type": "code",
   "execution_count": 17,
   "metadata": {
    "execution": {
     "iopub.execute_input": "2024-02-06T21:09:11.409706Z",
     "iopub.status.busy": "2024-02-06T21:09:11.409445Z",
     "iopub.status.idle": "2024-02-06T21:09:32.854651Z",
     "shell.execute_reply": "2024-02-06T21:09:32.853621Z",
     "shell.execute_reply.started": "2024-02-06T21:09:11.409684Z"
    }
   },
   "outputs": [
    {
     "data": {
      "text/plain": [
       "(1717577, 70)"
      ]
     },
     "execution_count": 17,
     "metadata": {},
     "output_type": "execute_result"
    }
   ],
   "source": [
    "# Concatenates all data frames\n",
    "main_df = pd.concat([df_1, df_2, df_3, df_5, df_6, df_7, df_8])\n",
    "main_df = main_df.reset_index()\n",
    "\n",
    "\n",
    "# Drop duplicates: same observation but multiple occurences\n",
    "main_df_1 = main_df.drop_duplicates(keep='first')\n",
    "\n",
    "\n",
    "# Drop columns that have just one unique value, the model wont learn form columns like this.\n",
    "one_value = main_df_1.columns[main_df_1.nunique() == 1]\n",
    "main_df_2 = main_df_1.drop(columns = one_value, axis=1)\n",
    "\n",
    "\n",
    "# Fill nan values\n",
    "#main_df_2['Flow Bytes/s'] = main_df_2['Flow Bytes/s'].fillna(main_df_2['Flow Bytes/s'].mean())\n",
    "\n",
    "\n",
    "# Remove leading space character in all feature names\n",
    "main_df_2.rename(columns=lambda x: x.lstrip(), inplace=True)\n",
    "\n",
    "\n",
    "# Drop columns\n",
    "main_df_2 = main_df_2.drop(['Flow Packets/s', 'Flow Bytes/s'], axis=1)\n",
    "\n",
    "main_df_2.shape"
   ]
  },
  {
   "cell_type": "code",
   "execution_count": 18,
   "metadata": {
    "execution": {
     "iopub.execute_input": "2024-02-06T21:09:32.856752Z",
     "iopub.status.busy": "2024-02-06T21:09:32.856085Z",
     "iopub.status.idle": "2024-02-06T21:09:33.285166Z",
     "shell.execute_reply": "2024-02-06T21:09:33.284297Z",
     "shell.execute_reply.started": "2024-02-06T21:09:32.856715Z"
    }
   },
   "outputs": [
    {
     "data": {
      "text/plain": [
       "0"
      ]
     },
     "execution_count": 18,
     "metadata": {},
     "output_type": "execute_result"
    }
   ],
   "source": [
    "# Checking numbers of missing values on the df\n",
    "main_df_2.isna().sum().sum()"
   ]
  },
  {
   "cell_type": "markdown",
   "metadata": {},
   "source": [
    "# 1.2 Extract subsample of data\n",
    "Getting a subsample of the data, while taking every unique values in the Label(Target) column into consideration."
   ]
  },
  {
   "cell_type": "code",
   "execution_count": 19,
   "metadata": {
    "execution": {
     "iopub.execute_input": "2024-02-06T21:09:33.286634Z",
     "iopub.status.busy": "2024-02-06T21:09:33.286287Z",
     "iopub.status.idle": "2024-02-06T21:09:33.699420Z",
     "shell.execute_reply": "2024-02-06T21:09:33.698440Z",
     "shell.execute_reply.started": "2024-02-06T21:09:33.286608Z"
    }
   },
   "outputs": [
    {
     "data": {
      "text/plain": [
       "BENIGN                        1435043\n",
       "DoS Hulk                       231073\n",
       "PortScan                        12254\n",
       "DoS GoldenEye                   10293\n",
       "FTP-Patator                      7938\n",
       "SSH-Patator                      5897\n",
       "DoS slowloris                    5796\n",
       "DoS Slowhttptest                 5499\n",
       "Web Attack � Brute Force         1507\n",
       "DDoS                             1117\n",
       "Web Attack � XSS                  652\n",
       "Bot                               440\n",
       "Infiltration                       36\n",
       "Web Attack � Sql Injection         21\n",
       "Heartbleed                         11\n",
       "Name: Label, dtype: int64"
      ]
     },
     "execution_count": 19,
     "metadata": {},
     "output_type": "execute_result"
    }
   ],
   "source": [
    "main_df_2['Label'].value_counts()"
   ]
  },
  {
   "cell_type": "code",
   "execution_count": 20,
   "metadata": {},
   "outputs": [],
   "source": [
    "df = main_df_2"
   ]
  },
  {
   "cell_type": "code",
   "execution_count": 21,
   "metadata": {},
   "outputs": [],
   "source": [
    "df = df.sample(frac = 1)"
   ]
  },
  {
   "cell_type": "code",
   "execution_count": 22,
   "metadata": {},
   "outputs": [],
   "source": [
    "# changing attack labels to their respective attack class\n",
    "def change_label(df):\n",
    "  df.Label.replace(['Web Attack � Brute Force'],'Brute Force',inplace=True)\n",
    "  df.Label.replace(['Web Attack � XSS'],'XSS',inplace=True)      \n",
    "  df.Label.replace(['Web Attack � Sql Injection'],'Sql Injection',inplace=True)"
   ]
  },
  {
   "cell_type": "code",
   "execution_count": 23,
   "metadata": {},
   "outputs": [],
   "source": [
    "change_label(df)"
   ]
  },
  {
   "cell_type": "code",
   "execution_count": 24,
   "metadata": {},
   "outputs": [
    {
     "data": {
      "text/plain": [
       "BENIGN              1435043\n",
       "DoS Hulk             231073\n",
       "PortScan              12254\n",
       "DoS GoldenEye         10293\n",
       "FTP-Patator            7938\n",
       "SSH-Patator            5897\n",
       "DoS slowloris          5796\n",
       "DoS Slowhttptest       5499\n",
       "Brute Force            1507\n",
       "DDoS                   1117\n",
       "XSS                     652\n",
       "Bot                     440\n",
       "Infiltration             36\n",
       "Sql Injection            21\n",
       "Heartbleed               11\n",
       "Name: Label, dtype: int64"
      ]
     },
     "execution_count": 24,
     "metadata": {},
     "output_type": "execute_result"
    }
   ],
   "source": [
    "df['Label'].value_counts()"
   ]
  },
  {
   "cell_type": "code",
   "execution_count": 25,
   "metadata": {},
   "outputs": [
    {
     "data": {
      "text/html": [
       "<div>\n",
       "<style scoped>\n",
       "    .dataframe tbody tr th:only-of-type {\n",
       "        vertical-align: middle;\n",
       "    }\n",
       "\n",
       "    .dataframe tbody tr th {\n",
       "        vertical-align: top;\n",
       "    }\n",
       "\n",
       "    .dataframe thead th {\n",
       "        text-align: right;\n",
       "    }\n",
       "</style>\n",
       "<table border=\"1\" class=\"dataframe\">\n",
       "  <thead>\n",
       "    <tr style=\"text-align: right;\">\n",
       "      <th></th>\n",
       "      <th>index</th>\n",
       "      <th>Destination Port</th>\n",
       "      <th>Flow Duration</th>\n",
       "      <th>Total Fwd Packets</th>\n",
       "      <th>Total Backward Packets</th>\n",
       "      <th>Total Length of Fwd Packets</th>\n",
       "      <th>Total Length of Bwd Packets</th>\n",
       "      <th>Fwd Packet Length Max</th>\n",
       "      <th>Fwd Packet Length Min</th>\n",
       "      <th>Fwd Packet Length Mean</th>\n",
       "      <th>Fwd Packet Length Std</th>\n",
       "      <th>Bwd Packet Length Max</th>\n",
       "      <th>Bwd Packet Length Min</th>\n",
       "      <th>Bwd Packet Length Mean</th>\n",
       "      <th>Bwd Packet Length Std</th>\n",
       "      <th>Flow IAT Mean</th>\n",
       "      <th>Flow IAT Std</th>\n",
       "      <th>Flow IAT Max</th>\n",
       "      <th>Flow IAT Min</th>\n",
       "      <th>Fwd IAT Total</th>\n",
       "      <th>Fwd IAT Mean</th>\n",
       "      <th>Fwd IAT Std</th>\n",
       "      <th>Fwd IAT Max</th>\n",
       "      <th>Fwd IAT Min</th>\n",
       "      <th>Bwd IAT Total</th>\n",
       "      <th>Bwd IAT Mean</th>\n",
       "      <th>Bwd IAT Std</th>\n",
       "      <th>Bwd IAT Max</th>\n",
       "      <th>Bwd IAT Min</th>\n",
       "      <th>Fwd PSH Flags</th>\n",
       "      <th>Fwd URG Flags</th>\n",
       "      <th>Fwd Header Length</th>\n",
       "      <th>Bwd Header Length</th>\n",
       "      <th>Fwd Packets/s</th>\n",
       "      <th>Bwd Packets/s</th>\n",
       "      <th>Min Packet Length</th>\n",
       "      <th>Max Packet Length</th>\n",
       "      <th>Packet Length Mean</th>\n",
       "      <th>Packet Length Std</th>\n",
       "      <th>Packet Length Variance</th>\n",
       "      <th>FIN Flag Count</th>\n",
       "      <th>SYN Flag Count</th>\n",
       "      <th>RST Flag Count</th>\n",
       "      <th>PSH Flag Count</th>\n",
       "      <th>ACK Flag Count</th>\n",
       "      <th>URG Flag Count</th>\n",
       "      <th>CWE Flag Count</th>\n",
       "      <th>ECE Flag Count</th>\n",
       "      <th>Down/Up Ratio</th>\n",
       "      <th>Average Packet Size</th>\n",
       "      <th>Avg Fwd Segment Size</th>\n",
       "      <th>Avg Bwd Segment Size</th>\n",
       "      <th>Fwd Header Length.1</th>\n",
       "      <th>Subflow Fwd Packets</th>\n",
       "      <th>Subflow Fwd Bytes</th>\n",
       "      <th>Subflow Bwd Packets</th>\n",
       "      <th>Subflow Bwd Bytes</th>\n",
       "      <th>Init_Win_bytes_forward</th>\n",
       "      <th>Init_Win_bytes_backward</th>\n",
       "      <th>act_data_pkt_fwd</th>\n",
       "      <th>min_seg_size_forward</th>\n",
       "      <th>Active Mean</th>\n",
       "      <th>Active Std</th>\n",
       "      <th>Active Max</th>\n",
       "      <th>Active Min</th>\n",
       "      <th>Idle Mean</th>\n",
       "      <th>Idle Std</th>\n",
       "      <th>Idle Max</th>\n",
       "      <th>Idle Min</th>\n",
       "      <th>Label</th>\n",
       "    </tr>\n",
       "  </thead>\n",
       "  <tbody>\n",
       "    <tr>\n",
       "      <td>687465</td>\n",
       "      <td>108497</td>\n",
       "      <td>443</td>\n",
       "      <td>1399632</td>\n",
       "      <td>11</td>\n",
       "      <td>9</td>\n",
       "      <td>530</td>\n",
       "      <td>3848</td>\n",
       "      <td>197</td>\n",
       "      <td>0</td>\n",
       "      <td>48.181818</td>\n",
       "      <td>71.810609</td>\n",
       "      <td>1460</td>\n",
       "      <td>0</td>\n",
       "      <td>427.555556</td>\n",
       "      <td>612.214854</td>\n",
       "      <td>7.366484e+04</td>\n",
       "      <td>1.721453e+05</td>\n",
       "      <td>727976</td>\n",
       "      <td>1</td>\n",
       "      <td>1399632</td>\n",
       "      <td>139963.2</td>\n",
       "      <td>2.217936e+05</td>\n",
       "      <td>727976</td>\n",
       "      <td>3</td>\n",
       "      <td>1160401</td>\n",
       "      <td>145050.125</td>\n",
       "      <td>259838.48650</td>\n",
       "      <td>743115</td>\n",
       "      <td>1</td>\n",
       "      <td>0</td>\n",
       "      <td>0</td>\n",
       "      <td>232</td>\n",
       "      <td>192</td>\n",
       "      <td>7.859209</td>\n",
       "      <td>6.430262</td>\n",
       "      <td>0</td>\n",
       "      <td>1460</td>\n",
       "      <td>208.476191</td>\n",
       "      <td>436.353368</td>\n",
       "      <td>1.904043e+05</td>\n",
       "      <td>0</td>\n",
       "      <td>0</td>\n",
       "      <td>0</td>\n",
       "      <td>1</td>\n",
       "      <td>0</td>\n",
       "      <td>0</td>\n",
       "      <td>0</td>\n",
       "      <td>0</td>\n",
       "      <td>0</td>\n",
       "      <td>218.900000</td>\n",
       "      <td>48.181818</td>\n",
       "      <td>427.555556</td>\n",
       "      <td>232</td>\n",
       "      <td>11</td>\n",
       "      <td>530</td>\n",
       "      <td>9</td>\n",
       "      <td>3848</td>\n",
       "      <td>8192</td>\n",
       "      <td>31</td>\n",
       "      <td>5</td>\n",
       "      <td>20</td>\n",
       "      <td>0.0</td>\n",
       "      <td>0.0</td>\n",
       "      <td>0</td>\n",
       "      <td>0</td>\n",
       "      <td>0.0</td>\n",
       "      <td>0.0</td>\n",
       "      <td>0</td>\n",
       "      <td>0</td>\n",
       "      <td>BENIGN</td>\n",
       "    </tr>\n",
       "    <tr>\n",
       "      <td>1248864</td>\n",
       "      <td>223987</td>\n",
       "      <td>80</td>\n",
       "      <td>98408719</td>\n",
       "      <td>7</td>\n",
       "      <td>5</td>\n",
       "      <td>312</td>\n",
       "      <td>11595</td>\n",
       "      <td>306</td>\n",
       "      <td>0</td>\n",
       "      <td>44.571429</td>\n",
       "      <td>115.300849</td>\n",
       "      <td>7240</td>\n",
       "      <td>0</td>\n",
       "      <td>2319.000000</td>\n",
       "      <td>3331.638186</td>\n",
       "      <td>8.946247e+06</td>\n",
       "      <td>2.970000e+07</td>\n",
       "      <td>98400000</td>\n",
       "      <td>1</td>\n",
       "      <td>98400000</td>\n",
       "      <td>16400000.0</td>\n",
       "      <td>4.020000e+07</td>\n",
       "      <td>98400000</td>\n",
       "      <td>1</td>\n",
       "      <td>41433</td>\n",
       "      <td>10358.250</td>\n",
       "      <td>13762.40743</td>\n",
       "      <td>29229</td>\n",
       "      <td>85</td>\n",
       "      <td>0</td>\n",
       "      <td>0</td>\n",
       "      <td>220</td>\n",
       "      <td>168</td>\n",
       "      <td>0.071132</td>\n",
       "      <td>0.050809</td>\n",
       "      <td>0</td>\n",
       "      <td>7240</td>\n",
       "      <td>915.923077</td>\n",
       "      <td>2244.917091</td>\n",
       "      <td>5.039653e+06</td>\n",
       "      <td>0</td>\n",
       "      <td>0</td>\n",
       "      <td>0</td>\n",
       "      <td>0</td>\n",
       "      <td>1</td>\n",
       "      <td>0</td>\n",
       "      <td>0</td>\n",
       "      <td>0</td>\n",
       "      <td>0</td>\n",
       "      <td>992.250000</td>\n",
       "      <td>44.571429</td>\n",
       "      <td>2319.000000</td>\n",
       "      <td>220</td>\n",
       "      <td>7</td>\n",
       "      <td>312</td>\n",
       "      <td>5</td>\n",
       "      <td>11595</td>\n",
       "      <td>251</td>\n",
       "      <td>235</td>\n",
       "      <td>2</td>\n",
       "      <td>20</td>\n",
       "      <td>1003.0</td>\n",
       "      <td>0.0</td>\n",
       "      <td>1003</td>\n",
       "      <td>1003</td>\n",
       "      <td>98400000.0</td>\n",
       "      <td>0.0</td>\n",
       "      <td>98400000</td>\n",
       "      <td>98400000</td>\n",
       "      <td>DoS Hulk</td>\n",
       "    </tr>\n",
       "    <tr>\n",
       "      <td>587943</td>\n",
       "      <td>8975</td>\n",
       "      <td>443</td>\n",
       "      <td>16463</td>\n",
       "      <td>3</td>\n",
       "      <td>0</td>\n",
       "      <td>53</td>\n",
       "      <td>0</td>\n",
       "      <td>53</td>\n",
       "      <td>0</td>\n",
       "      <td>17.666667</td>\n",
       "      <td>30.599564</td>\n",
       "      <td>0</td>\n",
       "      <td>0</td>\n",
       "      <td>0.000000</td>\n",
       "      <td>0.000000</td>\n",
       "      <td>8.231500e+03</td>\n",
       "      <td>1.157322e+04</td>\n",
       "      <td>16415</td>\n",
       "      <td>48</td>\n",
       "      <td>16463</td>\n",
       "      <td>8231.5</td>\n",
       "      <td>1.157322e+04</td>\n",
       "      <td>16415</td>\n",
       "      <td>48</td>\n",
       "      <td>0</td>\n",
       "      <td>0.000</td>\n",
       "      <td>0.00000</td>\n",
       "      <td>0</td>\n",
       "      <td>0</td>\n",
       "      <td>0</td>\n",
       "      <td>0</td>\n",
       "      <td>60</td>\n",
       "      <td>0</td>\n",
       "      <td>182.226812</td>\n",
       "      <td>0.000000</td>\n",
       "      <td>0</td>\n",
       "      <td>53</td>\n",
       "      <td>13.250000</td>\n",
       "      <td>26.500000</td>\n",
       "      <td>7.022500e+02</td>\n",
       "      <td>0</td>\n",
       "      <td>0</td>\n",
       "      <td>0</td>\n",
       "      <td>0</td>\n",
       "      <td>1</td>\n",
       "      <td>0</td>\n",
       "      <td>0</td>\n",
       "      <td>0</td>\n",
       "      <td>0</td>\n",
       "      <td>17.666667</td>\n",
       "      <td>17.666667</td>\n",
       "      <td>0.000000</td>\n",
       "      <td>60</td>\n",
       "      <td>3</td>\n",
       "      <td>53</td>\n",
       "      <td>0</td>\n",
       "      <td>0</td>\n",
       "      <td>64240</td>\n",
       "      <td>-1</td>\n",
       "      <td>1</td>\n",
       "      <td>20</td>\n",
       "      <td>0.0</td>\n",
       "      <td>0.0</td>\n",
       "      <td>0</td>\n",
       "      <td>0</td>\n",
       "      <td>0.0</td>\n",
       "      <td>0.0</td>\n",
       "      <td>0</td>\n",
       "      <td>0</td>\n",
       "      <td>BENIGN</td>\n",
       "    </tr>\n",
       "    <tr>\n",
       "      <td>9794</td>\n",
       "      <td>9794</td>\n",
       "      <td>53</td>\n",
       "      <td>266</td>\n",
       "      <td>2</td>\n",
       "      <td>2</td>\n",
       "      <td>62</td>\n",
       "      <td>264</td>\n",
       "      <td>31</td>\n",
       "      <td>31</td>\n",
       "      <td>31.000000</td>\n",
       "      <td>0.000000</td>\n",
       "      <td>132</td>\n",
       "      <td>132</td>\n",
       "      <td>132.000000</td>\n",
       "      <td>0.000000</td>\n",
       "      <td>8.866667e+01</td>\n",
       "      <td>7.043673e+01</td>\n",
       "      <td>170</td>\n",
       "      <td>48</td>\n",
       "      <td>48</td>\n",
       "      <td>48.0</td>\n",
       "      <td>0.000000e+00</td>\n",
       "      <td>48</td>\n",
       "      <td>48</td>\n",
       "      <td>48</td>\n",
       "      <td>48.000</td>\n",
       "      <td>0.00000</td>\n",
       "      <td>48</td>\n",
       "      <td>48</td>\n",
       "      <td>0</td>\n",
       "      <td>0</td>\n",
       "      <td>64</td>\n",
       "      <td>64</td>\n",
       "      <td>7518.796992</td>\n",
       "      <td>7518.796992</td>\n",
       "      <td>31</td>\n",
       "      <td>132</td>\n",
       "      <td>71.400000</td>\n",
       "      <td>55.319978</td>\n",
       "      <td>3.060300e+03</td>\n",
       "      <td>0</td>\n",
       "      <td>0</td>\n",
       "      <td>0</td>\n",
       "      <td>0</td>\n",
       "      <td>0</td>\n",
       "      <td>0</td>\n",
       "      <td>0</td>\n",
       "      <td>0</td>\n",
       "      <td>1</td>\n",
       "      <td>89.250000</td>\n",
       "      <td>31.000000</td>\n",
       "      <td>132.000000</td>\n",
       "      <td>64</td>\n",
       "      <td>2</td>\n",
       "      <td>62</td>\n",
       "      <td>2</td>\n",
       "      <td>264</td>\n",
       "      <td>-1</td>\n",
       "      <td>-1</td>\n",
       "      <td>1</td>\n",
       "      <td>32</td>\n",
       "      <td>0.0</td>\n",
       "      <td>0.0</td>\n",
       "      <td>0</td>\n",
       "      <td>0</td>\n",
       "      <td>0.0</td>\n",
       "      <td>0.0</td>\n",
       "      <td>0</td>\n",
       "      <td>0</td>\n",
       "      <td>BENIGN</td>\n",
       "    </tr>\n",
       "    <tr>\n",
       "      <td>1479069</td>\n",
       "      <td>454192</td>\n",
       "      <td>53</td>\n",
       "      <td>143176</td>\n",
       "      <td>1</td>\n",
       "      <td>1</td>\n",
       "      <td>40</td>\n",
       "      <td>149</td>\n",
       "      <td>40</td>\n",
       "      <td>40</td>\n",
       "      <td>40.000000</td>\n",
       "      <td>0.000000</td>\n",
       "      <td>149</td>\n",
       "      <td>149</td>\n",
       "      <td>149.000000</td>\n",
       "      <td>0.000000</td>\n",
       "      <td>1.431760e+05</td>\n",
       "      <td>0.000000e+00</td>\n",
       "      <td>143176</td>\n",
       "      <td>143176</td>\n",
       "      <td>0</td>\n",
       "      <td>0.0</td>\n",
       "      <td>0.000000e+00</td>\n",
       "      <td>0</td>\n",
       "      <td>0</td>\n",
       "      <td>0</td>\n",
       "      <td>0.000</td>\n",
       "      <td>0.00000</td>\n",
       "      <td>0</td>\n",
       "      <td>0</td>\n",
       "      <td>0</td>\n",
       "      <td>0</td>\n",
       "      <td>32</td>\n",
       "      <td>32</td>\n",
       "      <td>6.984411</td>\n",
       "      <td>6.984411</td>\n",
       "      <td>40</td>\n",
       "      <td>149</td>\n",
       "      <td>76.333333</td>\n",
       "      <td>62.931179</td>\n",
       "      <td>3.960333e+03</td>\n",
       "      <td>0</td>\n",
       "      <td>0</td>\n",
       "      <td>0</td>\n",
       "      <td>0</td>\n",
       "      <td>0</td>\n",
       "      <td>0</td>\n",
       "      <td>0</td>\n",
       "      <td>0</td>\n",
       "      <td>1</td>\n",
       "      <td>114.500000</td>\n",
       "      <td>40.000000</td>\n",
       "      <td>149.000000</td>\n",
       "      <td>32</td>\n",
       "      <td>1</td>\n",
       "      <td>40</td>\n",
       "      <td>1</td>\n",
       "      <td>149</td>\n",
       "      <td>-1</td>\n",
       "      <td>-1</td>\n",
       "      <td>0</td>\n",
       "      <td>32</td>\n",
       "      <td>0.0</td>\n",
       "      <td>0.0</td>\n",
       "      <td>0</td>\n",
       "      <td>0</td>\n",
       "      <td>0.0</td>\n",
       "      <td>0.0</td>\n",
       "      <td>0</td>\n",
       "      <td>0</td>\n",
       "      <td>BENIGN</td>\n",
       "    </tr>\n",
       "  </tbody>\n",
       "</table>\n",
       "</div>"
      ],
      "text/plain": [
       "          index  Destination Port  Flow Duration  Total Fwd Packets  \\\n",
       "687465   108497               443        1399632                 11   \n",
       "1248864  223987                80       98408719                  7   \n",
       "587943     8975               443          16463                  3   \n",
       "9794       9794                53            266                  2   \n",
       "1479069  454192                53         143176                  1   \n",
       "\n",
       "         Total Backward Packets  Total Length of Fwd Packets  \\\n",
       "687465                        9                          530   \n",
       "1248864                       5                          312   \n",
       "587943                        0                           53   \n",
       "9794                          2                           62   \n",
       "1479069                       1                           40   \n",
       "\n",
       "         Total Length of Bwd Packets  Fwd Packet Length Max  \\\n",
       "687465                          3848                    197   \n",
       "1248864                        11595                    306   \n",
       "587943                             0                     53   \n",
       "9794                             264                     31   \n",
       "1479069                          149                     40   \n",
       "\n",
       "         Fwd Packet Length Min  Fwd Packet Length Mean  Fwd Packet Length Std  \\\n",
       "687465                       0               48.181818              71.810609   \n",
       "1248864                      0               44.571429             115.300849   \n",
       "587943                       0               17.666667              30.599564   \n",
       "9794                        31               31.000000               0.000000   \n",
       "1479069                     40               40.000000               0.000000   \n",
       "\n",
       "         Bwd Packet Length Max  Bwd Packet Length Min  Bwd Packet Length Mean  \\\n",
       "687465                    1460                      0              427.555556   \n",
       "1248864                   7240                      0             2319.000000   \n",
       "587943                       0                      0                0.000000   \n",
       "9794                       132                    132              132.000000   \n",
       "1479069                    149                    149              149.000000   \n",
       "\n",
       "         Bwd Packet Length Std  Flow IAT Mean  Flow IAT Std  Flow IAT Max  \\\n",
       "687465              612.214854   7.366484e+04  1.721453e+05        727976   \n",
       "1248864            3331.638186   8.946247e+06  2.970000e+07      98400000   \n",
       "587943                0.000000   8.231500e+03  1.157322e+04         16415   \n",
       "9794                  0.000000   8.866667e+01  7.043673e+01           170   \n",
       "1479069               0.000000   1.431760e+05  0.000000e+00        143176   \n",
       "\n",
       "         Flow IAT Min  Fwd IAT Total  Fwd IAT Mean   Fwd IAT Std  Fwd IAT Max  \\\n",
       "687465              1        1399632      139963.2  2.217936e+05       727976   \n",
       "1248864             1       98400000    16400000.0  4.020000e+07     98400000   \n",
       "587943             48          16463        8231.5  1.157322e+04        16415   \n",
       "9794               48             48          48.0  0.000000e+00           48   \n",
       "1479069        143176              0           0.0  0.000000e+00            0   \n",
       "\n",
       "         Fwd IAT Min  Bwd IAT Total  Bwd IAT Mean   Bwd IAT Std  Bwd IAT Max  \\\n",
       "687465             3        1160401    145050.125  259838.48650       743115   \n",
       "1248864            1          41433     10358.250   13762.40743        29229   \n",
       "587943            48              0         0.000       0.00000            0   \n",
       "9794              48             48        48.000       0.00000           48   \n",
       "1479069            0              0         0.000       0.00000            0   \n",
       "\n",
       "         Bwd IAT Min  Fwd PSH Flags  Fwd URG Flags  Fwd Header Length  \\\n",
       "687465             1              0              0                232   \n",
       "1248864           85              0              0                220   \n",
       "587943             0              0              0                 60   \n",
       "9794              48              0              0                 64   \n",
       "1479069            0              0              0                 32   \n",
       "\n",
       "         Bwd Header Length  Fwd Packets/s  Bwd Packets/s  Min Packet Length  \\\n",
       "687465                 192       7.859209       6.430262                  0   \n",
       "1248864                168       0.071132       0.050809                  0   \n",
       "587943                   0     182.226812       0.000000                  0   \n",
       "9794                    64    7518.796992    7518.796992                 31   \n",
       "1479069                 32       6.984411       6.984411                 40   \n",
       "\n",
       "         Max Packet Length  Packet Length Mean  Packet Length Std  \\\n",
       "687465                1460          208.476191         436.353368   \n",
       "1248864               7240          915.923077        2244.917091   \n",
       "587943                  53           13.250000          26.500000   \n",
       "9794                   132           71.400000          55.319978   \n",
       "1479069                149           76.333333          62.931179   \n",
       "\n",
       "         Packet Length Variance  FIN Flag Count  SYN Flag Count  \\\n",
       "687465             1.904043e+05               0               0   \n",
       "1248864            5.039653e+06               0               0   \n",
       "587943             7.022500e+02               0               0   \n",
       "9794               3.060300e+03               0               0   \n",
       "1479069            3.960333e+03               0               0   \n",
       "\n",
       "         RST Flag Count  PSH Flag Count  ACK Flag Count  URG Flag Count  \\\n",
       "687465                0               1               0               0   \n",
       "1248864               0               0               1               0   \n",
       "587943                0               0               1               0   \n",
       "9794                  0               0               0               0   \n",
       "1479069               0               0               0               0   \n",
       "\n",
       "         CWE Flag Count  ECE Flag Count  Down/Up Ratio  Average Packet Size  \\\n",
       "687465                0               0              0           218.900000   \n",
       "1248864               0               0              0           992.250000   \n",
       "587943                0               0              0            17.666667   \n",
       "9794                  0               0              1            89.250000   \n",
       "1479069               0               0              1           114.500000   \n",
       "\n",
       "         Avg Fwd Segment Size  Avg Bwd Segment Size  Fwd Header Length.1  \\\n",
       "687465              48.181818            427.555556                  232   \n",
       "1248864             44.571429           2319.000000                  220   \n",
       "587943              17.666667              0.000000                   60   \n",
       "9794                31.000000            132.000000                   64   \n",
       "1479069             40.000000            149.000000                   32   \n",
       "\n",
       "         Subflow Fwd Packets  Subflow Fwd Bytes  Subflow Bwd Packets  \\\n",
       "687465                    11                530                    9   \n",
       "1248864                    7                312                    5   \n",
       "587943                     3                 53                    0   \n",
       "9794                       2                 62                    2   \n",
       "1479069                    1                 40                    1   \n",
       "\n",
       "         Subflow Bwd Bytes  Init_Win_bytes_forward  Init_Win_bytes_backward  \\\n",
       "687465                3848                    8192                       31   \n",
       "1248864              11595                     251                      235   \n",
       "587943                   0                   64240                       -1   \n",
       "9794                   264                      -1                       -1   \n",
       "1479069                149                      -1                       -1   \n",
       "\n",
       "         act_data_pkt_fwd  min_seg_size_forward  Active Mean  Active Std  \\\n",
       "687465                  5                    20          0.0         0.0   \n",
       "1248864                 2                    20       1003.0         0.0   \n",
       "587943                  1                    20          0.0         0.0   \n",
       "9794                    1                    32          0.0         0.0   \n",
       "1479069                 0                    32          0.0         0.0   \n",
       "\n",
       "         Active Max  Active Min   Idle Mean  Idle Std  Idle Max  Idle Min  \\\n",
       "687465            0           0         0.0       0.0         0         0   \n",
       "1248864        1003        1003  98400000.0       0.0  98400000  98400000   \n",
       "587943            0           0         0.0       0.0         0         0   \n",
       "9794              0           0         0.0       0.0         0         0   \n",
       "1479069           0           0         0.0       0.0         0         0   \n",
       "\n",
       "            Label  \n",
       "687465     BENIGN  \n",
       "1248864  DoS Hulk  \n",
       "587943     BENIGN  \n",
       "9794       BENIGN  \n",
       "1479069    BENIGN  "
      ]
     },
     "execution_count": 25,
     "metadata": {},
     "output_type": "execute_result"
    }
   ],
   "source": [
    "df.head()"
   ]
  },
  {
   "cell_type": "code",
   "execution_count": 26,
   "metadata": {},
   "outputs": [],
   "source": [
    "df.to_csv('processed_cicids2017.csv')"
   ]
  },
  {
   "cell_type": "code",
   "execution_count": 27,
   "metadata": {},
   "outputs": [
    {
     "name": "stdout",
     "output_type": "stream",
     "text": [
      "<class 'pandas.core.frame.DataFrame'>\n",
      "Int64Index: 1717577 entries, 687465 to 214297\n",
      "Data columns (total 70 columns):\n",
      "index                          int64\n",
      "Destination Port               int64\n",
      "Flow Duration                  int64\n",
      "Total Fwd Packets              int64\n",
      "Total Backward Packets         int64\n",
      "Total Length of Fwd Packets    int64\n",
      "Total Length of Bwd Packets    int64\n",
      "Fwd Packet Length Max          int64\n",
      "Fwd Packet Length Min          int64\n",
      "Fwd Packet Length Mean         float64\n",
      "Fwd Packet Length Std          float64\n",
      "Bwd Packet Length Max          int64\n",
      "Bwd Packet Length Min          int64\n",
      "Bwd Packet Length Mean         float64\n",
      "Bwd Packet Length Std          float64\n",
      "Flow IAT Mean                  float64\n",
      "Flow IAT Std                   float64\n",
      "Flow IAT Max                   int64\n",
      "Flow IAT Min                   int64\n",
      "Fwd IAT Total                  int64\n",
      "Fwd IAT Mean                   float64\n",
      "Fwd IAT Std                    float64\n",
      "Fwd IAT Max                    int64\n",
      "Fwd IAT Min                    int64\n",
      "Bwd IAT Total                  int64\n",
      "Bwd IAT Mean                   float64\n",
      "Bwd IAT Std                    float64\n",
      "Bwd IAT Max                    int64\n",
      "Bwd IAT Min                    int64\n",
      "Fwd PSH Flags                  int64\n",
      "Fwd URG Flags                  int64\n",
      "Fwd Header Length              int64\n",
      "Bwd Header Length              int64\n",
      "Fwd Packets/s                  float64\n",
      "Bwd Packets/s                  float64\n",
      "Min Packet Length              int64\n",
      "Max Packet Length              int64\n",
      "Packet Length Mean             float64\n",
      "Packet Length Std              float64\n",
      "Packet Length Variance         float64\n",
      "FIN Flag Count                 int64\n",
      "SYN Flag Count                 int64\n",
      "RST Flag Count                 int64\n",
      "PSH Flag Count                 int64\n",
      "ACK Flag Count                 int64\n",
      "URG Flag Count                 int64\n",
      "CWE Flag Count                 int64\n",
      "ECE Flag Count                 int64\n",
      "Down/Up Ratio                  int64\n",
      "Average Packet Size            float64\n",
      "Avg Fwd Segment Size           float64\n",
      "Avg Bwd Segment Size           float64\n",
      "Fwd Header Length.1            int64\n",
      "Subflow Fwd Packets            int64\n",
      "Subflow Fwd Bytes              int64\n",
      "Subflow Bwd Packets            int64\n",
      "Subflow Bwd Bytes              int64\n",
      "Init_Win_bytes_forward         int64\n",
      "Init_Win_bytes_backward        int64\n",
      "act_data_pkt_fwd               int64\n",
      "min_seg_size_forward           int64\n",
      "Active Mean                    float64\n",
      "Active Std                     float64\n",
      "Active Max                     int64\n",
      "Active Min                     int64\n",
      "Idle Mean                      float64\n",
      "Idle Std                       float64\n",
      "Idle Max                       int64\n",
      "Idle Min                       int64\n",
      "Label                          object\n",
      "dtypes: float64(22), int64(47), object(1)\n",
      "memory usage: 930.4+ MB\n"
     ]
    }
   ],
   "source": [
    "df.info()"
   ]
  },
  {
   "cell_type": "code",
   "execution_count": 28,
   "metadata": {},
   "outputs": [],
   "source": [
    "df = df[0:500000]"
   ]
  },
  {
   "cell_type": "code",
   "execution_count": 29,
   "metadata": {},
   "outputs": [
    {
     "data": {
      "text/plain": [
       "BENIGN              417727\n",
       "DoS Hulk             67369\n",
       "PortScan              3550\n",
       "DoS GoldenEye         2992\n",
       "FTP-Patator           2299\n",
       "SSH-Patator           1700\n",
       "DoS slowloris         1633\n",
       "DoS Slowhttptest      1629\n",
       "Brute Force            423\n",
       "DDoS                   340\n",
       "XSS                    195\n",
       "Bot                    126\n",
       "Infiltration             8\n",
       "Sql Injection            5\n",
       "Heartbleed               4\n",
       "Name: Label, dtype: int64"
      ]
     },
     "execution_count": 29,
     "metadata": {},
     "output_type": "execute_result"
    }
   ],
   "source": [
    "df['Label'].value_counts()"
   ]
  },
  {
   "cell_type": "code",
   "execution_count": 30,
   "metadata": {},
   "outputs": [
    {
     "data": {
      "text/plain": [
       "15"
      ]
     },
     "execution_count": 30,
     "metadata": {},
     "output_type": "execute_result"
    }
   ],
   "source": [
    "len(df['Label'].value_counts())"
   ]
  },
  {
   "cell_type": "code",
   "execution_count": 31,
   "metadata": {},
   "outputs": [
    {
     "data": {
      "text/plain": [
       "array([ 0,  5,  8,  4, 12, 11,  6,  1,  7, 14,  2, 13,  3,  9, 10],\n",
       "      dtype=int64)"
      ]
     },
     "execution_count": 31,
     "metadata": {},
     "output_type": "execute_result"
    }
   ],
   "source": [
    "# Import label encoder\n",
    "from sklearn import preprocessing\n",
    "\n",
    "# label_encoder object knows\n",
    "# how to understand word labels.\n",
    "label_encoder = preprocessing.LabelEncoder()\n",
    "\n",
    "# Encode labels in column 'species'.\n",
    "df['Label']= label_encoder.fit_transform(df['Label'])\n",
    "\n",
    "df['Label'].unique()"
   ]
  },
  {
   "cell_type": "markdown",
   "metadata": {},
   "source": [
    "# Feature Selection"
   ]
  },
  {
   "cell_type": "code",
   "execution_count": 32,
   "metadata": {},
   "outputs": [],
   "source": [
    "X = df.drop([\"Label\"],axis =1)\n",
    "y = df[\"Label\"]"
   ]
  },
  {
   "cell_type": "code",
   "execution_count": 33,
   "metadata": {},
   "outputs": [
    {
     "data": {
      "text/plain": [
       "(500000, 14)"
      ]
     },
     "execution_count": 33,
     "metadata": {},
     "output_type": "execute_result"
    }
   ],
   "source": [
    "from sklearn.feature_selection import SelectKBest, SelectPercentile, mutual_info_classif\n",
    "\n",
    "selector = SelectPercentile(mutual_info_classif, percentile=20)\n",
    "X_reduced = selector.fit_transform(X, y)\n",
    "X_reduced.shape\n"
   ]
  },
  {
   "cell_type": "code",
   "execution_count": 34,
   "metadata": {},
   "outputs": [
    {
     "data": {
      "text/plain": [
       "['Flow Duration',\n",
       " 'Total Length of Bwd Packets',\n",
       " 'Bwd Packet Length Mean',\n",
       " 'Flow IAT Mean',\n",
       " 'Flow IAT Max',\n",
       " 'Fwd IAT Max',\n",
       " 'Max Packet Length',\n",
       " 'Packet Length Mean',\n",
       " 'Packet Length Std',\n",
       " 'Packet Length Variance',\n",
       " 'Average Packet Size',\n",
       " 'Avg Bwd Segment Size',\n",
       " 'Subflow Bwd Bytes',\n",
       " 'Init_Win_bytes_forward']"
      ]
     },
     "execution_count": 34,
     "metadata": {},
     "output_type": "execute_result"
    }
   ],
   "source": [
    "cols = selector.get_support(indices=True)\n",
    "selected_columns = X.iloc[:,cols].columns.tolist()\n",
    "selected_columns"
   ]
  },
  {
   "cell_type": "code",
   "execution_count": 35,
   "metadata": {},
   "outputs": [],
   "source": [
    "df = df[['Flow Duration',\n",
    "                 'Total Length of Bwd Packets',\n",
    "                 'Bwd Packet Length Mean',\n",
    "                 'Flow IAT Mean',\n",
    "                 'Flow IAT Max',\n",
    "                 'Fwd IAT Max',\n",
    "                 'Max Packet Length',\n",
    "                 'Packet Length Mean',\n",
    "                 'Packet Length Std',\n",
    "                 'Packet Length Variance',\n",
    "                 'Average Packet Size',\n",
    "                 'Avg Bwd Segment Size',\n",
    "                 'Subflow Bwd Bytes',\n",
    "                 'Init_Win_bytes_forward',\n",
    "                  'Label']]\n",
    "df.to_csv('cicids2017_red.csv')"
   ]
  },
  {
   "cell_type": "code",
   "execution_count": 36,
   "metadata": {},
   "outputs": [],
   "source": [
    "from sklearn.model_selection import train_test_split\n",
    "# splitting the dataset 80% for training and 20% testing\n",
    "X_train, X_test, y_train, y_test = train_test_split(X_reduced,y, test_size=0.20, random_state=42)"
   ]
  },
  {
   "cell_type": "code",
   "execution_count": 37,
   "metadata": {},
   "outputs": [],
   "source": [
    "from sklearn.metrics import accuracy_score\n",
    "from sklearn.metrics import precision_score\n",
    "from sklearn.metrics import recall_score\n",
    "from sklearn.metrics import f1_score"
   ]
  },
  {
   "cell_type": "code",
   "execution_count": 38,
   "metadata": {},
   "outputs": [],
   "source": [
    "ML_Model = []\n",
    "accuracy = []\n",
    "precision = []\n",
    "recall = []\n",
    "f1score = []\n",
    "\n",
    "#function to call for storing the results\n",
    "def storeResults(model, a,b,c,d):\n",
    "    ML_Model.append(model)\n",
    "    accuracy.append(round(a, 3))\n",
    "    precision.append(round(b, 3))\n",
    "    recall.append(round(c, 3))\n",
    "    f1score.append(round(d, 3))"
   ]
  },
  {
   "cell_type": "markdown",
   "metadata": {},
   "source": [
    "# SVM"
   ]
  },
  {
   "cell_type": "code",
   "execution_count": 39,
   "metadata": {},
   "outputs": [],
   "source": [
    "from sklearn.svm import LinearSVC\n",
    "\n",
    "clf = LinearSVC()\n",
    "# fit the model \n",
    "clf.fit(X_train, y_train)\n",
    "\n",
    "y_pred = clf.predict(X_test)\n",
    "\n",
    "svc_acc = accuracy_score(y_pred, y_test)\n",
    "svc_prec = precision_score(y_pred, y_test,average='weighted')\n",
    "svc_rec = recall_score(y_pred, y_test,average='weighted')\n",
    "svc_f1 = f1_score(y_pred, y_test,average='weighted')"
   ]
  },
  {
   "cell_type": "code",
   "execution_count": 40,
   "metadata": {},
   "outputs": [],
   "source": [
    "storeResults('SVM',svc_acc,svc_prec,svc_rec,svc_f1)"
   ]
  },
  {
   "cell_type": "markdown",
   "metadata": {},
   "source": [
    "# Bagging Classifier"
   ]
  },
  {
   "cell_type": "code",
   "execution_count": 41,
   "metadata": {},
   "outputs": [],
   "source": [
    "from sklearn.ensemble import BaggingClassifier, RandomForestClassifier\n",
    "\n",
    "clf = BaggingClassifier(RandomForestClassifier(),n_estimators=10, random_state=0)\n",
    "\n",
    "clf.fit(X_train, y_train)\n",
    "\n",
    "y_pred = clf.predict(X_test)\n",
    "\n",
    "bag_acc = accuracy_score(y_pred, y_test)\n",
    "bag_prec = precision_score(y_pred, y_test,average='weighted')\n",
    "bag_rec = recall_score(y_pred, y_test,average='weighted')\n",
    "bag_f1 = f1_score(y_pred, y_test,average='weighted')"
   ]
  },
  {
   "cell_type": "code",
   "execution_count": 42,
   "metadata": {},
   "outputs": [],
   "source": [
    "storeResults('Bagging Classifier',bag_acc,bag_prec,bag_rec,bag_f1)"
   ]
  },
  {
   "cell_type": "markdown",
   "metadata": {},
   "source": [
    "# Voting Classifier"
   ]
  },
  {
   "cell_type": "code",
   "execution_count": 43,
   "metadata": {},
   "outputs": [],
   "source": [
    "from sklearn.ensemble import RandomForestClassifier, VotingClassifier\n",
    "from sklearn.tree import DecisionTreeClassifier\n",
    "\n",
    "clf1 = BaggingClassifier(RandomForestClassifier(),n_estimators=10, random_state=0)\n",
    "clf2 = DecisionTreeClassifier(random_state=10)\n",
    "\n",
    "eclf1 = VotingClassifier(estimators=[('bagging', clf1), ('dt', clf2)], voting='soft')\n",
    "eclf1.fit(X_train, y_train)\n",
    "y_pred = eclf1.predict(X_test)\n",
    "\n",
    "vot_acc = accuracy_score(y_pred, y_test)\n",
    "vot_prec = precision_score(y_pred, y_test,average='weighted')\n",
    "vot_rec = recall_score(y_pred, y_test,average='weighted')\n",
    "vot_f1 = f1_score(y_pred, y_test,average='weighted')"
   ]
  },
  {
   "cell_type": "code",
   "execution_count": 44,
   "metadata": {},
   "outputs": [
    {
     "data": {
      "text/plain": [
       "0.99725"
      ]
     },
     "execution_count": 44,
     "metadata": {},
     "output_type": "execute_result"
    }
   ],
   "source": [
    "vot_acc"
   ]
  },
  {
   "cell_type": "code",
   "execution_count": 45,
   "metadata": {},
   "outputs": [],
   "source": [
    "storeResults('Voting Classifier',vot_acc,vot_prec,vot_rec,vot_f1)"
   ]
  },
  {
   "cell_type": "markdown",
   "metadata": {},
   "source": [
    "# DL"
   ]
  },
  {
   "cell_type": "code",
   "execution_count": 46,
   "metadata": {},
   "outputs": [],
   "source": [
    "import tensorflow as tf\n",
    "from tensorflow.keras.utils import to_categorical\n",
    "\n",
    "from keras.layers import Dense, Conv1D, MaxPool1D, Flatten, Dropout # importing dense layer\n",
    "from keras.models import Sequential #importing Sequential layer\n",
    "from keras.layers import Input\n",
    "from keras.models import Model"
   ]
  },
  {
   "cell_type": "code",
   "execution_count": 47,
   "metadata": {},
   "outputs": [],
   "source": [
    "X_train, X_test, y_train, y_test = train_test_split(X_reduced,y, test_size=0.20, random_state=42)"
   ]
  },
  {
   "cell_type": "code",
   "execution_count": 48,
   "metadata": {},
   "outputs": [],
   "source": [
    "#X_train=X_train.values\n",
    "#X_test=X_test.values\n",
    "\n",
    "X_train = X_train.reshape(-1, X_train.shape[1],1)\n",
    "X_test = X_test.reshape(-1, X_test.shape[1],1)\n",
    "\n",
    "Y_train=to_categorical(y_train)\n",
    "Y_test=to_categorical(y_test)"
   ]
  },
  {
   "cell_type": "markdown",
   "metadata": {},
   "source": [
    "# LSTM"
   ]
  },
  {
   "cell_type": "code",
   "execution_count": 49,
   "metadata": {},
   "outputs": [],
   "source": [
    "from tensorflow.keras.models import Sequential\n",
    "from tensorflow.keras.layers import Dense, LSTM, SimpleRNN\n",
    "from tensorflow.keras.layers import Dropout\n",
    "from keras import regularizers\n",
    "import tensorflow as tf"
   ]
  },
  {
   "cell_type": "code",
   "execution_count": 50,
   "metadata": {},
   "outputs": [],
   "source": [
    "from keras.models import Sequential\n",
    "from keras.layers import Dense, LSTM\n",
    "from keras.layers import Dropout\n",
    "from keras import regularizers\n",
    "import tensorflow as tf\n",
    "\n",
    "# define a function to build the keras model\n",
    "def create_model(input_shape):\n",
    "    # create model\n",
    "    d = 0.25\n",
    "    model = Sequential()\n",
    "    \n",
    "    model.add(LSTM(32, input_shape=input_shape, activation='relu', return_sequences=True))\n",
    "    model.add(Dropout(d))\n",
    "\n",
    "    model.add(LSTM(64, input_shape=input_shape, activation='relu', return_sequences=True))\n",
    "    model.add(Dropout(d))\n",
    "        \n",
    "    model.add(LSTM(128, input_shape=input_shape, activation='relu', return_sequences=True))\n",
    "    model.add(Dropout(d))\n",
    "\n",
    "    model.add(LSTM(256, input_shape=input_shape, activation='relu', return_sequences=False))\n",
    "    model.add(Dropout(d))\n",
    "   \n",
    "    model.add(Dense(32,kernel_initializer=\"uniform\",activation='relu'))        \n",
    "    model.add(Dense(1,kernel_initializer=\"uniform\",activation='linear'))\n",
    "    \n",
    "    # compile model\n",
    "    adam = tf.keras.optimizers.Adam(learning_rate=0.001, decay=0.00001)\n",
    "    #model.compile(loss='mse', optimizer='adam', metrics=['accuracy'])\n",
    "    model.compile(loss='categorical_crossentropy', optimizer='adam', metrics=['accuracy'])\n",
    "    #model.compile(loss='binary_crossentropy', optimizer='adam', metrics=['accuracy'])\n",
    "    return model\n",
    "\n",
    "model = create_model(input_shape=(14,1))\n",
    "#print(model.summary())"
   ]
  },
  {
   "cell_type": "code",
   "execution_count": 51,
   "metadata": {},
   "outputs": [
    {
     "name": "stdout",
     "output_type": "stream",
     "text": [
      "Epoch 1/5\n",
      "500/500 [==============================] - 45s 40ms/step - loss: 1.0648e-07 - accuracy: 0.7537 - val_loss: 1.0476e-07 - val_accuracy: 0.7656\n",
      "Epoch 2/5\n",
      "500/500 [==============================] - 18s 35ms/step - loss: 1.0299e-07 - accuracy: 0.7566 - val_loss: 1.0476e-07 - val_accuracy: 0.7656\n",
      "Epoch 3/5\n",
      "500/500 [==============================] - 17s 35ms/step - loss: 1.0577e-07 - accuracy: 0.7499 - val_loss: 1.0476e-07 - val_accuracy: 0.7656\n",
      "Epoch 4/5\n",
      "500/500 [==============================] - 21s 43ms/step - loss: 1.0747e-07 - accuracy: 0.7568 - val_loss: 1.0476e-07 - val_accuracy: 0.7656\n",
      "Epoch 5/5\n",
      "500/500 [==============================] - 18s 36ms/step - loss: 1.0951e-07 - accuracy: 0.7351 - val_loss: 1.0476e-07 - val_accuracy: 0.7656\n"
     ]
    }
   ],
   "source": [
    "history=model.fit(X_train, y_train, validation_data=(X_test, y_test),epochs=5, batch_size=5, verbose=1, steps_per_epoch=500, validation_steps=500)"
   ]
  },
  {
   "cell_type": "code",
   "execution_count": 52,
   "metadata": {},
   "outputs": [],
   "source": [
    "import matplotlib.pyplot as plt"
   ]
  },
  {
   "cell_type": "code",
   "execution_count": 53,
   "metadata": {},
   "outputs": [
    {
     "data": {
      "image/png": "[encoded data removed]",
      "text/plain": [
       "<Figure size 432x288 with 1 Axes>"
      ]
     },
     "metadata": {
      "needs_background": "light"
     },
     "output_type": "display_data"
    },
    {
     "data": {
      "image/png": "[encoded data removed]",
      "text/plain": [
       "<Figure size 432x288 with 1 Axes>"
      ]
     },
     "metadata": {
      "needs_background": "light"
     },
     "output_type": "display_data"
    }
   ],
   "source": [
    "# Plot training & validation loss values\n",
    "plt.plot(history.history['loss'])\n",
    "plt.plot(history.history['val_loss'])\n",
    "plt.title('Model loss')\n",
    "plt.ylabel('Loss')\n",
    "plt.xlabel('Epoch')\n",
    "plt.legend(['Train', 'Validation'], loc='upper left')\n",
    "plt.savefig('loss.png', format='png', dpi=1200)\n",
    "plt.show()\n",
    "\n",
    "\n",
    "# Plot training & validation accuracy values\n",
    "plt.plot(history.history['accuracy'])\n",
    "plt.plot(history.history['val_accuracy'])\n",
    "plt.title('Model accuracy')\n",
    "plt.ylabel('Accuracy')\n",
    "plt.xlabel('Epoch')\n",
    "plt.legend(['Train', 'Validation'], loc='upper left')\n",
    "plt.savefig('accuracy.png', format='png', dpi=1200)\n",
    "plt.show()"
   ]
  },
  {
   "cell_type": "code",
   "execution_count": 54,
   "metadata": {},
   "outputs": [
    {
     "name": "stdout",
     "output_type": "stream",
     "text": [
      "3125/3125 [==============================] - 56s 17ms/step\n"
     ]
    }
   ],
   "source": [
    "y_pred = model.predict(X_test, verbose=1)\n",
    "y_pred = np.argmax(y_pred,axis=1)\n",
    "\n",
    "lstm_acc = accuracy_score(y_pred, y_test)\n",
    "lstm_prec = precision_score(y_pred, y_test,average='weighted')\n",
    "lstm_rec = recall_score(y_pred, y_test,average='weighted')\n",
    "lstm_f1 = f1_score(y_pred, y_test,average='weighted')"
   ]
  },
  {
   "cell_type": "code",
   "execution_count": 55,
   "metadata": {},
   "outputs": [],
   "source": [
    "storeResults('LSTM',lstm_acc,lstm_prec,lstm_rec,lstm_f1)"
   ]
  },
  {
   "cell_type": "markdown",
   "metadata": {},
   "source": [
    "# RNN"
   ]
  },
  {
   "cell_type": "code",
   "execution_count": 56,
   "metadata": {},
   "outputs": [],
   "source": [
    "def create_model(input_shape):\n",
    "    # create model\n",
    "    d = 0.25\n",
    "    model = Sequential()\n",
    "    \n",
    "    model.add(SimpleRNN(32, input_shape=input_shape, activation='relu', return_sequences=True))\n",
    "    model.add(Dropout(d))\n",
    "\n",
    "    model.add(SimpleRNN(64, input_shape=input_shape, activation='relu', return_sequences=True))\n",
    "    model.add(Dropout(d))\n",
    "        \n",
    "    model.add(SimpleRNN(128, input_shape=input_shape, activation='relu', return_sequences=True))\n",
    "    model.add(Dropout(d))\n",
    "\n",
    "    model.add(SimpleRNN(256, input_shape=input_shape, activation='relu', return_sequences=False))\n",
    "    model.add(Dropout(d))\n",
    "   \n",
    "    model.add(Dense(32,kernel_initializer=\"uniform\",activation='relu'))        \n",
    "    model.add(Dense(1,kernel_initializer=\"uniform\",activation='linear'))\n",
    "    \n",
    "    # compile model\n",
    "    adam = tf.keras.optimizers.Adam(learning_rate=0.001, decay=0.00001)\n",
    "    #model.compile(loss='mse', optimizer='adam', metrics=['accuracy'])\n",
    "    model.compile(loss='categorical_crossentropy', optimizer='adam', metrics=['accuracy'])\n",
    "    #model.compile(loss='binary_crossentropy', optimizer='adam', metrics=['accuracy'])\n",
    "    return model\n",
    "\n",
    "model = create_model(input_shape=(14,1))\n",
    "#print(model.summary())"
   ]
  },
  {
   "cell_type": "code",
   "execution_count": 57,
   "metadata": {
    "scrolled": true
   },
   "outputs": [
    {
     "name": "stdout",
     "output_type": "stream",
     "text": [
      "Epoch 1/5\n",
      "500/500 [==============================] - 14s 12ms/step - loss: 1.1487e-07 - accuracy: 0.2769 - val_loss: 1.0476e-07 - val_accuracy: 0.2364\n",
      "Epoch 2/5\n",
      "500/500 [==============================] - 5s 11ms/step - loss: 1.0446e-07 - accuracy: 0.2683 - val_loss: 1.0476e-07 - val_accuracy: 0.2364\n",
      "Epoch 3/5\n",
      "500/500 [==============================] - 5s 11ms/step - loss: 1.1056e-07 - accuracy: 0.2785 - val_loss: 1.0476e-07 - val_accuracy: 0.2364\n",
      "Epoch 4/5\n",
      "500/500 [==============================] - 5s 11ms/step - loss: 1.1407e-07 - accuracy: 0.2787 - val_loss: 1.0476e-07 - val_accuracy: 0.2364\n",
      "Epoch 5/5\n",
      "500/500 [==============================] - 6s 11ms/step - loss: 1.0290e-07 - accuracy: 0.2644 - val_loss: 1.0476e-07 - val_accuracy: 0.2364\n"
     ]
    }
   ],
   "source": [
    "history=model.fit(X_train, y_train, validation_data=(X_test, y_test),epochs=5, batch_size=5, verbose=1, steps_per_epoch=500, validation_steps=500)"
   ]
  },
  {
   "cell_type": "code",
   "execution_count": 58,
   "metadata": {},
   "outputs": [
    {
     "data": {
      "image/png": "[encoded data removed]",
      "text/plain": [
       "<Figure size 432x288 with 1 Axes>"
      ]
     },
     "metadata": {
      "needs_background": "light"
     },
     "output_type": "display_data"
    },
    {
     "data": {
      "image/png": "[encoded data removed]",
      "text/plain": [
       "<Figure size 432x288 with 1 Axes>"
      ]
     },
     "metadata": {
      "needs_background": "light"
     },
     "output_type": "display_data"
    }
   ],
   "source": [
    "# Plot training & validation loss values\n",
    "plt.plot(history.history['loss'])\n",
    "plt.plot(history.history['val_loss'])\n",
    "plt.title('Model loss')\n",
    "plt.ylabel('Loss')\n",
    "plt.xlabel('Epoch')\n",
    "plt.legend(['Train', 'Validation'], loc='upper left')\n",
    "plt.savefig('loss.png', format='png', dpi=1200)\n",
    "plt.show()\n",
    "\n",
    "\n",
    "# Plot training & validation accuracy values\n",
    "plt.plot(history.history['accuracy'])\n",
    "plt.plot(history.history['val_accuracy'])\n",
    "plt.title('Model accuracy')\n",
    "plt.ylabel('Accuracy')\n",
    "plt.xlabel('Epoch')\n",
    "plt.legend(['Train', 'Validation'], loc='upper left')\n",
    "plt.savefig('accuracy.png', format='png', dpi=1200)\n",
    "plt.show()"
   ]
  },
  {
   "cell_type": "code",
   "execution_count": 59,
   "metadata": {},
   "outputs": [
    {
     "name": "stdout",
     "output_type": "stream",
     "text": [
      "3125/3125 [==============================] - 14s 4ms/step\n"
     ]
    }
   ],
   "source": [
    "y_pred = model.predict(X_test, verbose=1)\n",
    "y_pred = np.argmax(y_pred,axis=1)\n",
    "\n",
    "rnn_acc = accuracy_score(y_pred, y_test)\n",
    "rnn_prec = precision_score(y_pred, y_test,average='weighted')\n",
    "rnn_rec = recall_score(y_pred, y_test,average='weighted')\n",
    "rnn_f1 = f1_score(y_pred, y_test,average='weighted')"
   ]
  },
  {
   "cell_type": "code",
   "execution_count": 60,
   "metadata": {},
   "outputs": [],
   "source": [
    "storeResults('RNN',rnn_acc,rnn_prec,rnn_rec,rnn_f1)"
   ]
  },
  {
   "cell_type": "markdown",
   "metadata": {},
   "source": [
    "# CNN + LSTM"
   ]
  },
  {
   "cell_type": "code",
   "execution_count": 61,
   "metadata": {},
   "outputs": [
    {
     "name": "stdout",
     "output_type": "stream",
     "text": [
      "Model: \"sequential\"\n",
      "_________________________________________________________________\n",
      "Layer (type)                 Output Shape              Param #   \n",
      "=================================================================\n",
      "conv1d (Conv1D)              (None, 14, 64)            384       \n",
      "_________________________________________________________________\n",
      "max_pooling1d (MaxPooling1D) (None, 13, 64)            0         \n",
      "_________________________________________________________________\n",
      "conv1d_1 (Conv1D)            (None, 13, 32)            6176      \n",
      "_________________________________________________________________\n",
      "max_pooling1d_1 (MaxPooling1 (None, 12, 32)            0         \n",
      "_________________________________________________________________\n",
      "lstm (LSTM)                  (None, 12, 128)           82432     \n",
      "_________________________________________________________________\n",
      "flatten (Flatten)            (None, 1536)              0         \n",
      "_________________________________________________________________\n",
      "dense (Dense)                (None, 128)               196736    \n",
      "_________________________________________________________________\n",
      "dropout (Dropout)            (None, 128)               0         \n",
      "_________________________________________________________________\n",
      "dense_1 (Dense)              (None, 32)                4128      \n",
      "_________________________________________________________________\n",
      "dropout_1 (Dropout)          (None, 32)                0         \n",
      "_________________________________________________________________\n",
      "dense_2 (Dense)              (None, 15)                495       \n",
      "=================================================================\n",
      "Total params: 290,351\n",
      "Trainable params: 290,351\n",
      "Non-trainable params: 0\n",
      "_________________________________________________________________\n"
     ]
    }
   ],
   "source": [
    "import tensorflow as tf\n",
    "tf.keras.backend.clear_session()\n",
    "\n",
    "model1 = tf.keras.models.Sequential([tf.keras.layers.Conv1D(filters=64,kernel_size=5,strides=1,padding=\"causal\",activation=\"relu\",input_shape=(X_train.shape[1],X_train.shape[2])),\n",
    "    tf.keras.layers.MaxPooling1D(pool_size=2, strides=1, padding=\"valid\"),\n",
    "    tf.keras.layers.Conv1D(filters=32, kernel_size=3, strides=1, padding=\"causal\", activation=\"relu\"),\n",
    "    tf.keras.layers.MaxPooling1D(pool_size=2, strides=1, padding=\"valid\"),\n",
    "    tf.keras.layers.LSTM(128, return_sequences=True),\n",
    "    tf.keras.layers.Flatten(),\n",
    "    tf.keras.layers.Dense(128, activation=\"relu\"),\n",
    "    tf.keras.layers.Dropout(0.2),\n",
    "    tf.keras.layers.Dense(32, activation=\"relu\"),\n",
    "    tf.keras.layers.Dropout(0.1),\n",
    "    tf.keras.layers.Dense(15)\n",
    "])\n",
    "\n",
    "lr_schedule = tf.keras.optimizers.schedules.ExponentialDecay(5e-4,\n",
    "                                                             decay_steps=1000000,\n",
    "                                                             decay_rate=0.98,\n",
    "                                                             staircase=False)\n",
    "\n",
    "model1.compile(loss=tf.keras.losses.MeanSquaredError(),\n",
    "              optimizer=tf.keras.optimizers.SGD(learning_rate=lr_schedule, momentum=0.8),\n",
    "              metrics=['acc'])\n",
    "model1.summary()"
   ]
  },
  {
   "cell_type": "code",
   "execution_count": 62,
   "metadata": {},
   "outputs": [
    {
     "name": "stdout",
     "output_type": "stream",
     "text": [
      "Epoch 1/5\n",
      "20000/20000 [==============================] - 147s 7ms/step - loss: 0.0221 - acc: 0.8289 - val_loss: 0.0159 - val_acc: 0.8351\n",
      "Epoch 2/5\n",
      "20000/20000 [==============================] - 142s 7ms/step - loss: 0.0171 - acc: 0.8358 - val_loss: 0.0158 - val_acc: 0.8351\n",
      "Epoch 3/5\n",
      "20000/20000 [==============================] - 156s 8ms/step - loss: 0.0165 - acc: 0.8363 - val_loss: 0.0157 - val_acc: 0.8351\n",
      "Epoch 4/5\n",
      "20000/20000 [==============================] - 138s 7ms/step - loss: 0.0160 - acc: 0.8407 - val_loss: 0.0150 - val_acc: 0.8424\n",
      "Epoch 5/5\n",
      "20000/20000 [==============================] - 139s 7ms/step - loss: 0.0160 - acc: 0.8436 - val_loss: 0.0166 - val_acc: 0.8421\n"
     ]
    }
   ],
   "source": [
    "modelhistory = model1.fit(X_train, Y_train, epochs=5, verbose=1, validation_split=0.2, batch_size = 16)"
   ]
  },
  {
   "cell_type": "code",
   "execution_count": 63,
   "metadata": {},
   "outputs": [
    {
     "data": {
      "image/png": "[encoded data removed]",
      "text/plain": [
       "<Figure size 432x288 with 1 Axes>"
      ]
     },
     "metadata": {
      "needs_background": "light"
     },
     "output_type": "display_data"
    },
    {
     "data": {
      "image/png": "[encoded data removed]",
      "text/plain": [
       "<Figure size 432x288 with 1 Axes>"
      ]
     },
     "metadata": {
      "needs_background": "light"
     },
     "output_type": "display_data"
    }
   ],
   "source": [
    "# Plot of accuracy vs epoch for train and test dataset\n",
    "plt.plot(modelhistory.history['acc'])\n",
    "plt.plot(modelhistory.history['val_acc'])\n",
    "plt.title(\"Plot of accuracy vs epoch for train and test dataset\")\n",
    "plt.ylabel('accuracy')\n",
    "plt.xlabel('epoch')\n",
    "plt.show()\n",
    "\n",
    "# Plot of loss vs epoch for train and test dataset\n",
    "plt.plot(modelhistory.history['loss'])\n",
    "plt.plot(modelhistory.history['val_loss'])\n",
    "plt.title(\"Plot of loss vs epoch for train and test dataset\")\n",
    "plt.ylabel('loss')\n",
    "plt.xlabel('epoch')\n",
    "plt.legend(['train', 'test'], loc='upper right')\n",
    "plt.show()"
   ]
  },
  {
   "cell_type": "code",
   "execution_count": 64,
   "metadata": {},
   "outputs": [
    {
     "name": "stdout",
     "output_type": "stream",
     "text": [
      "3125/3125 [==============================] - 13s 4ms/step\n"
     ]
    }
   ],
   "source": [
    "y_pred = model1.predict(X_test, verbose=1)\n",
    "y_pred = np.argmax(y_pred,axis=1)\n",
    "\n",
    "#y_prob = cnnmodel.predict_proba(X_test)[:, 1]\n",
    "\n",
    "ense_acc = accuracy_score(y_pred, y_test)\n",
    "ense_prec = precision_score(y_pred, y_test,average='weighted')\n",
    "ense_rec = recall_score(y_pred, y_test,average='weighted')\n",
    "ense_f1 = f1_score(y_pred, y_test,average='weighted')"
   ]
  },
  {
   "cell_type": "code",
   "execution_count": 65,
   "metadata": {},
   "outputs": [],
   "source": [
    "storeResults('CNN + LSTM',ense_acc,ense_prec,ense_rec,ense_f1)"
   ]
  },
  {
   "cell_type": "markdown",
   "metadata": {},
   "source": [
    "# FNN"
   ]
  },
  {
   "cell_type": "code",
   "execution_count": 66,
   "metadata": {},
   "outputs": [],
   "source": [
    "from tensorflow.keras import models, layers, optimizers, regularizers\n",
    "import numpy as np\n",
    "import random\n",
    "from sklearn import model_selection, preprocessing\n",
    "import tensorflow as tf\n",
    "from tqdm import tqdm"
   ]
  },
  {
   "cell_type": "code",
   "execution_count": 67,
   "metadata": {},
   "outputs": [],
   "source": [
    "# splitting the dataset 80% for training and 20% testing\n",
    "X_train, X_test, y_train, y_test = train_test_split(X_reduced,y, test_size=0.20, random_state=42)"
   ]
  },
  {
   "cell_type": "code",
   "execution_count": 68,
   "metadata": {},
   "outputs": [],
   "source": [
    "x_train = preprocessing.normalize(X_train)\n",
    "x_test = preprocessing.normalize(X_test)"
   ]
  },
  {
   "cell_type": "code",
   "execution_count": 69,
   "metadata": {},
   "outputs": [],
   "source": [
    "hidden_units = 10     # how many neurons in the hidden layer\n",
    "activation = 'relu'   # activation function for hidden layer\n",
    "l2 = 0.01             # regularization - how much we penalize large parameter values\n",
    "learning_rate = 0.01  # how big our steps are in gradient descent\n",
    "epochs = 5            # how many epochs to train for\n",
    "batch_size = 2       # how many samples to use for each gradient descent update"
   ]
  },
  {
   "cell_type": "code",
   "execution_count": 70,
   "metadata": {},
   "outputs": [],
   "source": [
    "# create a sequential model\n",
    "model2 = models.Sequential()\n",
    "\n",
    "# add the hidden layer\n",
    "model2.add(layers.Dense(input_dim=14,\n",
    "                       units=hidden_units, \n",
    "                       activation=activation))\n",
    "\n",
    "# add the output layer\n",
    "model2.add(layers.Dense(input_dim=hidden_units,\n",
    "                       units=1,\n",
    "                       activation='sigmoid'))\n",
    "\n",
    "# define our loss function and optimizer\n",
    "model2.compile(loss='binary_crossentropy',\n",
    "              # Adam is a kind of gradient descent\n",
    "              optimizer=optimizers.Adam(lr=learning_rate),\n",
    "              metrics=['accuracy'])"
   ]
  },
  {
   "cell_type": "code",
   "execution_count": 71,
   "metadata": {},
   "outputs": [
    {
     "name": "stdout",
     "output_type": "stream",
     "text": [
      "Model: \"sequential_1\"\n",
      "_________________________________________________________________\n",
      "Layer (type)                 Output Shape              Param #   \n",
      "=================================================================\n",
      "dense_3 (Dense)              (None, 10)                150       \n",
      "_________________________________________________________________\n",
      "dense_4 (Dense)              (None, 1)                 11        \n",
      "=================================================================\n",
      "Total params: 161\n",
      "Trainable params: 161\n",
      "Non-trainable params: 0\n",
      "_________________________________________________________________\n"
     ]
    }
   ],
   "source": [
    "model2.summary()"
   ]
  },
  {
   "cell_type": "code",
   "execution_count": 72,
   "metadata": {},
   "outputs": [
    {
     "name": "stdout",
     "output_type": "stream",
     "text": [
      "Epoch 1/5\n",
      "1000/1000 [==============================] - ETA: 7:59 - loss: 0.7492 - accuracy: 0.50 - ETA: 0s - loss: 0.7331 - accuracy: 0.4365 - ETA: 0s - loss: 0.6312 - accuracy: 0.39 - ETA: 0s - loss: 0.3907 - accuracy: 0.35 - ETA: 0s - loss: 0.1222 - accuracy: 0.33 - ETA: 0s - loss: -0.0344 - accuracy: 0.310 - ETA: 0s - loss: -0.5290 - accuracy: 0.300 - ETA: 0s - loss: -0.7610 - accuracy: 0.299 - ETA: 0s - loss: -1.4149 - accuracy: 0.307 - ETA: 0s - loss: -1.6433 - accuracy: 0.305 - 1s 511us/step - loss: -1.6893 - accuracy: 0.3035\n",
      "Epoch 2/5\n",
      "1000/1000 [==============================] - ETA: 0s - loss: -79.5557 - accuracy: 0.0000e+ - ETA: 0s - loss: -6.8500 - accuracy: 0.3198     - ETA: 0s - loss: -7.8754 - accuracy: 0.356 - ETA: 0s - loss: -8.5201 - accuracy: 0.319 - ETA: 0s - loss: -8.8376 - accuracy: 0.310 - ETA: 0s - loss: -9.9567 - accuracy: 0.297 - ETA: 0s - loss: -12.5299 - accuracy: 0.29 - ETA: 0s - loss: -13.9318 - accuracy: 0.28 - ETA: 0s - loss: -15.4030 - accuracy: 0.26 - ETA: 0s - loss: -17.0778 - accuracy: 0.26 - 0s 493us/step - loss: -16.8390 - accuracy: 0.2685\n",
      "Epoch 3/5\n",
      "1000/1000 [==============================] - ETA: 0s - loss: 43.8641 - accuracy: 0.0000e+0 - ETA: 0s - loss: -11.2464 - accuracy: 0.3398  - ETA: 0s - loss: -19.6666 - accuracy: 0.34 - ETA: 0s - loss: -20.5393 - accuracy: 0.32 - ETA: 0s - loss: -24.2491 - accuracy: 0.31 - ETA: 0s - loss: -29.4784 - accuracy: 0.29 - ETA: 0s - loss: -26.8891 - accuracy: 0.31 - ETA: 0s - loss: -29.0191 - accuracy: 0.30 - ETA: 0s - loss: -31.7736 - accuracy: 0.31 - ETA: 0s - loss: -33.8045 - accuracy: 0.31 - 1s 510us/step - loss: -36.4253 - accuracy: 0.3100\n",
      "Epoch 4/5\n",
      "1000/1000 [==============================] - ETA: 10s - loss: -330.3893 - accuracy: 0.50 - ETA: 0s - loss: -72.6424 - accuracy: 0.3031 - ETA: 0s - loss: -45.9672 - accuracy: 0.31 - ETA: 0s - loss: -53.2698 - accuracy: 0.31 - ETA: 0s - loss: -56.1442 - accuracy: 0.31 - ETA: 0s - loss: -56.7855 - accuracy: 0.32 - ETA: 0s - loss: -61.0894 - accuracy: 0.32 - ETA: 0s - loss: -62.0113 - accuracy: 0.33 - ETA: 0s - loss: -65.2857 - accuracy: 0.33 - 0s 480us/step - loss: -64.7332 - accuracy: 0.3405\n",
      "Epoch 5/5\n",
      "1000/1000 [==============================] - ETA: 3s - loss: 134.1596 - accuracy: 0.0000e+ - ETA: 0s - loss: -64.3243 - accuracy: 0.3232   - ETA: 0s - loss: -65.5405 - accuracy: 0.32 - ETA: 0s - loss: -69.0523 - accuracy: 0.36 - ETA: 0s - loss: -92.2843 - accuracy: 0.36 - ETA: 0s - loss: -110.8116 - accuracy: 0.349 - ETA: 0s - loss: -111.8030 - accuracy: 0.344 - ETA: 0s - loss: -107.3483 - accuracy: 0.334 - ETA: 0s - loss: -117.2097 - accuracy: 0.330 - ETA: 0s - loss: -120.9742 - accuracy: 0.326 - 0s 490us/step - loss: -123.2662 - accuracy: 0.3250\n"
     ]
    }
   ],
   "source": [
    "history = model2.fit(x_train, y_train, epochs=5, batch_size=batch_size,steps_per_epoch=1000, validation_steps=1000)"
   ]
  },
  {
   "cell_type": "code",
   "execution_count": 73,
   "metadata": {},
   "outputs": [
    {
     "data": {
      "image/png": "[encoded data removed]",
      "text/plain": [
       "<Figure size 432x288 with 1 Axes>"
      ]
     },
     "metadata": {
      "needs_background": "light"
     },
     "output_type": "display_data"
    },
    {
     "data": {
      "image/png": "[encoded data removed]",
      "text/plain": [
       "<Figure size 432x288 with 1 Axes>"
      ]
     },
     "metadata": {
      "needs_background": "light"
     },
     "output_type": "display_data"
    }
   ],
   "source": [
    "# Plot of accuracy vs epoch for train and test dataset\n",
    "plt.plot(history.history['accuracy'])\n",
    "#plt.plot(history.history['val_accuracy'])\n",
    "plt.title(\"Plot of accuracy vs epoch for train and test dataset\")\n",
    "plt.ylabel('accuracy')\n",
    "plt.xlabel('epoch')\n",
    "plt.show()\n",
    "\n",
    "# Plot of loss vs epoch for train and test dataset\n",
    "plt.plot(history.history['loss'])\n",
    "#plt.plot(history.history['val_loss'])\n",
    "plt.title(\"Plot of loss vs epoch for train and test dataset\")\n",
    "plt.ylabel('loss')\n",
    "plt.xlabel('epoch')\n",
    "plt.legend(['train', 'test'], loc='upper right')\n",
    "plt.show()"
   ]
  },
  {
   "cell_type": "code",
   "execution_count": 74,
   "metadata": {},
   "outputs": [
    {
     "name": "stdout",
     "output_type": "stream",
     "text": [
      "3125/3125 [==============================] - ETA: 1: - ETA: 1s - ETA:  - ETA:  - ETA:  - ETA:  - ETA:  - ETA:  - ETA:  - ETA:  - ETA:  - ETA:  - ETA:  - ETA:  - ETA:  - ETA:  - ETA:  - ETA:  - ETA:  - ETA:  - 1s 336us/step\n"
     ]
    }
   ],
   "source": [
    "y_pred = model2.predict(X_test, verbose=1)\n",
    "y_pred = np.argmax(y_pred,axis=1)\n",
    "\n",
    "#y_prob = cnnmodel.predict_proba(X_test)[:, 1]\n",
    "\n",
    "dnn_acc = accuracy_score(y_pred, y_test)\n",
    "dnn_prec = precision_score(y_pred, y_test,average='weighted')\n",
    "dnn_rec = recall_score(y_pred, y_test,average='weighted')\n",
    "dnn_f1 = f1_score(y_pred, y_test,average='weighted')"
   ]
  },
  {
   "cell_type": "code",
   "execution_count": 75,
   "metadata": {},
   "outputs": [],
   "source": [
    "storeResults('FNN',dnn_acc,dnn_prec,dnn_rec,dnn_f1)"
   ]
  },
  {
   "cell_type": "markdown",
   "metadata": {},
   "source": [
    "# Transformer LSTM"
   ]
  },
  {
   "cell_type": "code",
   "execution_count": 76,
   "metadata": {},
   "outputs": [],
   "source": [
    "from sklearn.preprocessing import MinMaxScaler\n",
    "import joblib\n",
    "import seaborn as sns\n",
    "sns.set(color_codes=True)\n",
    "import matplotlib.pyplot as plt\n",
    "%matplotlib inline\n",
    "\n",
    "from numpy.random import seed\n",
    "\n",
    "import tensorflow as tf\n",
    "\n",
    "from keras.layers import Input, Dropout, Dense, LSTM, TimeDistributed, RepeatVector\n",
    "from keras.models import Model\n",
    "from keras import regularizers"
   ]
  },
  {
   "cell_type": "code",
   "execution_count": 77,
   "metadata": {},
   "outputs": [],
   "source": [
    "from sklearn.model_selection import train_test_split\n",
    "x_train1, x_test1 = train_test_split(X_reduced, test_size = 0.2, random_state = 0)\n",
    "\n",
    "y_train1, y_test1 = train_test_split(y, test_size = 0.2, random_state = 0)"
   ]
  },
  {
   "cell_type": "code",
   "execution_count": 78,
   "metadata": {},
   "outputs": [
    {
     "data": {
      "text/plain": [
       "['scaler_data']"
      ]
     },
     "execution_count": 78,
     "metadata": {},
     "output_type": "execute_result"
    }
   ],
   "source": [
    "# normalize the data\n",
    "scaler = MinMaxScaler()\n",
    "x_train = scaler.fit_transform(x_train1)\n",
    "x_test = scaler.transform(x_test1)\n",
    "scaler_filename = \"scaler_data\"\n",
    "joblib.dump(scaler, scaler_filename)"
   ]
  },
  {
   "cell_type": "code",
   "execution_count": 79,
   "metadata": {},
   "outputs": [
    {
     "name": "stdout",
     "output_type": "stream",
     "text": [
      "Training data shape: (400000, 1, 14)\n",
      "Test data shape: (100000, 1, 14)\n"
     ]
    }
   ],
   "source": [
    "# reshape inputs for LSTM [samples, timesteps, features]\n",
    "X_train1 = x_train.reshape(x_train.shape[0], 1, x_train.shape[1])\n",
    "print(\"Training data shape:\", X_train1.shape)\n",
    "X_test1 = x_test.reshape(x_test.shape[0], 1, x_test.shape[1])\n",
    "print(\"Test data shape:\", X_test1.shape)"
   ]
  },
  {
   "cell_type": "code",
   "execution_count": 80,
   "metadata": {},
   "outputs": [],
   "source": [
    "# define the autoencoder network model\n",
    "def autoencoder_model(X):\n",
    "    inputs = Input(shape=(X.shape[1], X.shape[2]))\n",
    "    L1 = LSTM(16, activation='relu', return_sequences=True, \n",
    "              kernel_regularizer=regularizers.l2(0.00))(inputs)\n",
    "    L2 = LSTM(4, activation='relu', return_sequences=False)(L1)\n",
    "    L3 = RepeatVector(X.shape[1])(L2)\n",
    "    L4 = LSTM(4, activation='relu', return_sequences=True)(L3)\n",
    "    L5 = LSTM(16, activation='relu', return_sequences=True)(L4)\n",
    "    output = TimeDistributed(Dense(X.shape[2]))(L5)    \n",
    "    model = Model(inputs=inputs, outputs=output)\n",
    "    return model"
   ]
  },
  {
   "cell_type": "code",
   "execution_count": 81,
   "metadata": {},
   "outputs": [
    {
     "name": "stdout",
     "output_type": "stream",
     "text": [
      "Model: \"model\"\n",
      "_________________________________________________________________\n",
      "Layer (type)                 Output Shape              Param #   \n",
      "=================================================================\n",
      "input_1 (InputLayer)         [(None, 1, 14)]           0         \n",
      "_________________________________________________________________\n",
      "lstm (LSTM)                  (None, 1, 16)             1984      \n",
      "_________________________________________________________________\n",
      "lstm_1 (LSTM)                (None, 4)                 336       \n",
      "_________________________________________________________________\n",
      "repeat_vector (RepeatVector) (None, 1, 4)              0         \n",
      "_________________________________________________________________\n",
      "lstm_2 (LSTM)                (None, 1, 4)              144       \n",
      "_________________________________________________________________\n",
      "lstm_3 (LSTM)                (None, 1, 16)             1344      \n",
      "_________________________________________________________________\n",
      "time_distributed (TimeDistri (None, 1, 14)             238       \n",
      "=================================================================\n",
      "Total params: 4,046\n",
      "Trainable params: 4,046\n",
      "Non-trainable params: 0\n",
      "_________________________________________________________________\n"
     ]
    }
   ],
   "source": [
    "# create the autoencoder model\n",
    "model_tl = autoencoder_model(X_train1)\n",
    "model_tl.compile(optimizer='adam', loss='mae')\n",
    "model_tl.summary()"
   ]
  },
  {
   "cell_type": "code",
   "execution_count": 82,
   "metadata": {},
   "outputs": [
    {
     "name": "stdout",
     "output_type": "stream",
     "text": [
      "Epoch 1/5\n",
      "1000/1000 [==============================] - ETA: 1:36:44 - loss: 0.05 - ETA: 1s - loss: 0.0616     - ETA: 1s - loss: 0.063 - ETA: 1s - loss: 0.065 - ETA: 1s - loss: 0.065 - ETA: 1s - loss: 0.065 - ETA: 1s - loss: 0.065 - ETA: 1s - loss: 0.065 - ETA: 0s - loss: 0.065 - ETA: 0s - loss: 0.064 - ETA: 0s - loss: 0.064 - ETA: 0s - loss: 0.064 - ETA: 0s - loss: 0.064 - ETA: 0s - loss: 0.064 - ETA: 0s - loss: 0.064 - ETA: 0s - loss: 0.063 - ETA: 0s - loss: 0.063 - ETA: 0s - loss: 0.063 - ETA: 0s - loss: 0.063 - ETA: 0s - loss: 0.063 - ETA: 0s - loss: 0.063 - ETA: 0s - loss: 0.062 - ETA: 0s - loss: 0.062 - ETA: 0s - loss: 0.062 - ETA: 0s - loss: 0.062 - ETA: 0s - loss: 0.062 - 9s 3ms/step - loss: 0.0622 - val_loss: 0.0412\n",
      "Epoch 2/5\n",
      "1000/1000 [==============================] - ETA: 5s - loss: 0.011 - ETA: 1s - loss: 0.034 - ETA: 1s - loss: 0.037 - ETA: 1s - loss: 0.038 - ETA: 1s - loss: 0.038 - ETA: 1s - loss: 0.038 - ETA: 1s - loss: 0.037 - ETA: 0s - loss: 0.036 - ETA: 0s - loss: 0.036 - ETA: 0s - loss: 0.036 - ETA: 0s - loss: 0.036 - ETA: 0s - loss: 0.036 - ETA: 0s - loss: 0.035 - ETA: 0s - loss: 0.035 - ETA: 0s - loss: 0.035 - ETA: 0s - loss: 0.035 - ETA: 0s - loss: 0.035 - ETA: 0s - loss: 0.035 - ETA: 0s - loss: 0.035 - ETA: 0s - loss: 0.035 - ETA: 0s - loss: 0.035 - ETA: 0s - loss: 0.034 - ETA: 0s - loss: 0.034 - ETA: 0s - loss: 0.034 - ETA: 0s - loss: 0.034 - ETA: 0s - loss: 0.034 - ETA: 0s - loss: 0.034 - 2s 2ms/step - loss: 0.0345 - val_loss: 0.0302\n",
      "Epoch 3/5\n",
      "1000/1000 [==============================] - ETA: 0s - loss: 0.057 - ETA: 1s - loss: 0.028 - ETA: 1s - loss: 0.030 - ETA: 1s - loss: 0.032 - ETA: 1s - loss: 0.032 - ETA: 1s - loss: 0.033 - ETA: 1s - loss: 0.032 - ETA: 1s - loss: 0.032 - ETA: 0s - loss: 0.032 - ETA: 0s - loss: 0.032 - ETA: 0s - loss: 0.032 - ETA: 0s - loss: 0.032 - ETA: 0s - loss: 0.032 - ETA: 0s - loss: 0.032 - ETA: 0s - loss: 0.032 - ETA: 0s - loss: 0.032 - ETA: 0s - loss: 0.032 - ETA: 0s - loss: 0.032 - ETA: 0s - loss: 0.032 - ETA: 0s - loss: 0.032 - ETA: 0s - loss: 0.031 - ETA: 0s - loss: 0.031 - ETA: 0s - loss: 0.031 - ETA: 0s - loss: 0.031 - ETA: 0s - loss: 0.031 - ETA: 0s - loss: 0.031 - 2s 2ms/step - loss: 0.0315 - val_loss: 0.0281\n",
      "Epoch 4/5\n",
      "1000/1000 [==============================] - ETA: 6s - loss: 0.106 - ETA: 1s - loss: 0.038 - ETA: 1s - loss: 0.033 - ETA: 1s - loss: 0.030 - ETA: 1s - loss: 0.030 - ETA: 1s - loss: 0.030 - ETA: 1s - loss: 0.029 - ETA: 1s - loss: 0.029 - ETA: 0s - loss: 0.029 - ETA: 0s - loss: 0.029 - ETA: 0s - loss: 0.029 - ETA: 0s - loss: 0.029 - ETA: 0s - loss: 0.029 - ETA: 0s - loss: 0.029 - ETA: 0s - loss: 0.029 - ETA: 0s - loss: 0.029 - ETA: 0s - loss: 0.029 - ETA: 0s - loss: 0.029 - ETA: 0s - loss: 0.029 - ETA: 0s - loss: 0.029 - ETA: 0s - loss: 0.029 - ETA: 0s - loss: 0.029 - ETA: 0s - loss: 0.029 - ETA: 0s - loss: 0.029 - ETA: 0s - loss: 0.029 - ETA: 0s - loss: 0.029 - 2s 2ms/step - loss: 0.0290 - val_loss: 0.0257\n",
      "Epoch 5/5\n",
      "1000/1000 [==============================] - ETA: 0s - loss: 0.003 - ETA: 1s - loss: 0.030 - ETA: 1s - loss: 0.031 - ETA: 1s - loss: 0.031 - ETA: 1s - loss: 0.030 - ETA: 1s - loss: 0.029 - ETA: 1s - loss: 0.028 - ETA: 1s - loss: 0.028 - ETA: 0s - loss: 0.028 - ETA: 0s - loss: 0.027 - ETA: 0s - loss: 0.027 - ETA: 0s - loss: 0.027 - ETA: 0s - loss: 0.027 - ETA: 0s - loss: 0.027 - ETA: 0s - loss: 0.027 - ETA: 0s - loss: 0.027 - ETA: 0s - loss: 0.027 - ETA: 0s - loss: 0.027 - ETA: 0s - loss: 0.027 - ETA: 0s - loss: 0.027 - ETA: 0s - loss: 0.027 - ETA: 0s - loss: 0.027 - ETA: 0s - loss: 0.027 - ETA: 0s - loss: 0.027 - ETA: 0s - loss: 0.027 - ETA: 0s - loss: 0.027 - 2s 2ms/step - loss: 0.0269 - val_loss: 0.0245\n"
     ]
    }
   ],
   "source": [
    "nb_epochs = 5\n",
    "batch_size = 2\n",
    "history = model_tl.fit(X_train1, X_train1, epochs=nb_epochs, batch_size=batch_size,validation_split=0.05,steps_per_epoch=1000, validation_steps=1000).history"
   ]
  },
  {
   "cell_type": "code",
   "execution_count": 83,
   "metadata": {},
   "outputs": [
    {
     "data": {
      "image/png": "[encoded data removed]",
      "text/plain": [
       "<Figure size 1120x480 with 1 Axes>"
      ]
     },
     "metadata": {
      "needs_background": "light"
     },
     "output_type": "display_data"
    }
   ],
   "source": [
    "# plot the training losses\n",
    "fig, ax = plt.subplots(figsize=(14, 6), dpi=80)\n",
    "ax.plot(history['loss'], 'b', label='Train', linewidth=2)\n",
    "ax.plot(history['val_loss'], 'r', label='Validation', linewidth=2)\n",
    "ax.set_title('Model loss', fontsize=16)\n",
    "ax.set_ylabel('Loss (mae)')\n",
    "ax.set_xlabel('Epoch')\n",
    "ax.legend(loc='upper right')\n",
    "plt.show()"
   ]
  },
  {
   "cell_type": "code",
   "execution_count": 88,
   "metadata": {},
   "outputs": [],
   "source": [
    "# Convert predicted probabilities to class labels if necessary\n",
    "# For binary classification\n",
    "y_pred = (y_pred > 0.5).astype(int)\n",
    "\n",
    "# For multiclass classification\n",
    "# y_pred = np.argmax(y_pred, axis=1)\n",
    "\n",
    "# Now compute classification metrics\n",
    "tl_prec = precision_score(y_test, y_pred, average='weighted')\n",
    "tl_rec = recall_score(y_test, y_pred, average='weighted')\n",
    "tl_f1 = f1_score(y_test, y_pred, average='weighted')\n"
   ]
  },
  {
   "cell_type": "code",
   "execution_count": 89,
   "metadata": {},
   "outputs": [],
   "source": [
    "storeResults('Transformer LSTM',tl_acc,tl_prec,tl_rec,tl_f1)"
   ]
  },
  {
   "cell_type": "markdown",
   "metadata": {},
   "source": [
    "# Transformer - Encoder and Decoder"
   ]
  },
  {
   "cell_type": "code",
   "execution_count": 91,
   "metadata": {},
   "outputs": [],
   "source": [
    "X_train, X_test, y_train, y_test = train_test_split(X_reduced, y, test_size=0.33, random_state=1)"
   ]
  },
  {
   "cell_type": "code",
   "execution_count": 92,
   "metadata": {},
   "outputs": [],
   "source": [
    "import matplotlib.pyplot as plt\n",
    "n_train = np.array(X_train)\n",
    "n_test = np.array(X_test)"
   ]
  },
  {
   "cell_type": "code",
   "execution_count": 93,
   "metadata": {},
   "outputs": [
    {
     "name": "stdout",
     "output_type": "stream",
     "text": [
      "14\n",
      "(335000, 14)\n"
     ]
    },
    {
     "data": {
      "image/png": "[encoded data removed]",
      "text/plain": [
       "<Figure size 432x288 with 1 Axes>"
      ]
     },
     "metadata": {
      "needs_background": "light"
     },
     "output_type": "display_data"
    }
   ],
   "source": [
    "from keras.layers import Input, Dense\n",
    "from keras.models import Model\n",
    "import tensorflow as tf\n",
    "\n",
    "input_dim = n_train.shape[1]\n",
    "feature_dim = [25, 20, 15, 10]\n",
    "print(input_dim)\n",
    "inputs = Input(shape=(input_dim,))\n",
    "encoded = inputs\n",
    "encoded = Dense(feature_dim[0], kernel_initializer=\"uniform\")(encoded)\n",
    "encoded = Dense(feature_dim[1], kernel_initializer=\"uniform\")(encoded)\n",
    "encoded = Dense(feature_dim[2], kernel_initializer=\"uniform\")(encoded)\n",
    "encoded = Dense(feature_dim[3], kernel_initializer=\"uniform\")(encoded)\n",
    "\n",
    "decoded = encoded\n",
    "decoded = Dense(feature_dim[2], kernel_initializer=\"uniform\")(decoded)\n",
    "decoded = Dense(feature_dim[1], kernel_initializer=\"uniform\")(decoded)\n",
    "decoded = Dense(feature_dim[0], kernel_initializer=\"uniform\")(decoded)\n",
    "decoded = Dense(input_dim, kernel_initializer=\"uniform\")(decoded)\n",
    "\n",
    "\n",
    "autoencoder = Model(inputs, decoded)\n",
    "autoencoder.compile(optimizer='adadelta', loss='mse')\n",
    "\n",
    "autoencoder.fit(n_train, n_train,\n",
    "                verbose=0,\n",
    "                epochs=5,\n",
    "                batch_size=2,\n",
    "                shuffle=True,\n",
    "                validation_data=(n_test, n_test),\n",
    "               steps_per_epoch=500,\n",
    "               validation_steps=500)\n",
    "\n",
    "predict_vals = autoencoder.predict(n_train)\n",
    "print(predict_vals.shape)\n",
    "plt.plot(predict_vals)\n",
    "plt.show()"
   ]
  },
  {
   "cell_type": "code",
   "execution_count": 94,
   "metadata": {},
   "outputs": [],
   "source": [
    "from keras.models import Sequential\n",
    "\n",
    "featuremodel = Sequential()\n",
    "featuremodel.add(Dense(feature_dim[0], input_shape=(input_dim,), weights=autoencoder.layers[1].get_weights()))\n",
    "featuremodel.add(Dense(feature_dim[1], weights=autoencoder.layers[2].get_weights()))\n",
    "featuremodel.add(Dense(feature_dim[2], weights=autoencoder.layers[3].get_weights()))\n",
    "featuremodel.add(Dense(feature_dim[3], weights=autoencoder.layers[4].get_weights()))\n",
    "\n",
    "featuremodel.compile(optimizer='adadelta', loss='mse')"
   ]
  },
  {
   "cell_type": "code",
   "execution_count": 95,
   "metadata": {},
   "outputs": [
    {
     "name": "stdout",
     "output_type": "stream",
     "text": [
      "5157/5157 [==============================] - ETA: 2: - ETA: 6s - ETA:  - ETA:  - ETA:  - ETA:  - ETA:  - ETA:  - ETA:  - ETA:  - ETA:  - ETA:  - ETA:  - ETA:  - ETA:  - ETA:  - ETA:  - ETA:  - ETA:  - ETA:  - ETA:  - ETA:  - ETA:  - ETA:  - ETA:  - ETA:  - ETA:  - ETA:  - ETA:  - ETA:  - ETA:  - ETA:  - ETA:  - ETA:  - ETA:  - ETA:  - ETA:  - ETA:  - ETA:  - ETA:  - ETA:  - ETA:  - ETA:  - ETA:  - ETA:  - ETA:  - ETA:  - ETA:  - ETA:  - ETA:  - ETA:  - ETA:  - ETA:  - ETA:  - ETA:  - ETA:  - ETA:  - ETA:  - ETA:  - ETA:  - ETA:  - ETA:  - ETA:  - ETA:  - ETA:  - ETA:  - ETA:  - ETA:  - 4s 694us/step\n"
     ]
    }
   ],
   "source": [
    "y_pred = autoencoder.predict(X_test, verbose=1)\n",
    "y_pred = np.argmax(y_pred,axis=1)\n",
    "\n",
    "#y_prob = cnnmodel.predict_proba(X_test)[:, 1]\n",
    "\n",
    "ende_acc = accuracy_score(y_pred, y_test)\n",
    "ende_prec = precision_score(y_pred, y_test,average='weighted')\n",
    "ende_rec = recall_score(y_pred, y_test,average='weighted')\n",
    "ende_f1 = f1_score(y_pred, y_test,average='weighted')"
   ]
  },
  {
   "cell_type": "code",
   "execution_count": 96,
   "metadata": {},
   "outputs": [],
   "source": [
    "storeResults('Transformer Encode-Decode',ende_acc,ende_prec,ende_rec,ende_f1)"
   ]
  },
  {
   "cell_type": "markdown",
   "metadata": {},
   "source": [
    "# Comparison"
   ]
  },
  {
   "cell_type": "code",
   "execution_count": 97,
   "metadata": {},
   "outputs": [],
   "source": [
    "#creating dataframe\n",
    "result = pd.DataFrame({ 'ML Model' : ML_Model,\n",
    "                        'Accuracy' : accuracy,\n",
    "                        'Precision': precision,\n",
    "                        'Recall'   : recall,\n",
    "                        'F1-Score': f1score\n",
    "                      })"
   ]
  },
  {
   "cell_type": "code",
   "execution_count": 98,
   "metadata": {},
   "outputs": [
    {
     "data": {
      "text/html": [
       "<div>\n",
       "<style scoped>\n",
       "    .dataframe tbody tr th:only-of-type {\n",
       "        vertical-align: middle;\n",
       "    }\n",
       "\n",
       "    .dataframe tbody tr th {\n",
       "        vertical-align: top;\n",
       "    }\n",
       "\n",
       "    .dataframe thead th {\n",
       "        text-align: right;\n",
       "    }\n",
       "</style>\n",
       "<table border=\"1\" class=\"dataframe\">\n",
       "  <thead>\n",
       "    <tr style=\"text-align: right;\">\n",
       "      <th></th>\n",
       "      <th>ML Model</th>\n",
       "      <th>Accuracy</th>\n",
       "      <th>Precision</th>\n",
       "      <th>Recall</th>\n",
       "      <th>F1-Score</th>\n",
       "    </tr>\n",
       "  </thead>\n",
       "  <tbody>\n",
       "    <tr>\n",
       "      <td>0</td>\n",
       "      <td>SVM</td>\n",
       "      <td>0.664</td>\n",
       "      <td>0.597</td>\n",
       "      <td>0.664</td>\n",
       "      <td>0.626</td>\n",
       "    </tr>\n",
       "    <tr>\n",
       "      <td>1</td>\n",
       "      <td>Bagging Classifier</td>\n",
       "      <td>0.997</td>\n",
       "      <td>0.998</td>\n",
       "      <td>0.997</td>\n",
       "      <td>0.998</td>\n",
       "    </tr>\n",
       "    <tr>\n",
       "      <td>2</td>\n",
       "      <td>Voting Classifier</td>\n",
       "      <td>0.997</td>\n",
       "      <td>0.997</td>\n",
       "      <td>0.997</td>\n",
       "      <td>0.997</td>\n",
       "    </tr>\n",
       "    <tr>\n",
       "      <td>3</td>\n",
       "      <td>LSTM</td>\n",
       "      <td>0.835</td>\n",
       "      <td>1.000</td>\n",
       "      <td>0.835</td>\n",
       "      <td>0.910</td>\n",
       "    </tr>\n",
       "    <tr>\n",
       "      <td>4</td>\n",
       "      <td>RNN</td>\n",
       "      <td>0.835</td>\n",
       "      <td>1.000</td>\n",
       "      <td>0.835</td>\n",
       "      <td>0.910</td>\n",
       "    </tr>\n",
       "    <tr>\n",
       "      <td>5</td>\n",
       "      <td>CNN + LSTM</td>\n",
       "      <td>0.842</td>\n",
       "      <td>0.990</td>\n",
       "      <td>0.842</td>\n",
       "      <td>0.906</td>\n",
       "    </tr>\n",
       "    <tr>\n",
       "      <td>6</td>\n",
       "      <td>FNN</td>\n",
       "      <td>0.835</td>\n",
       "      <td>1.000</td>\n",
       "      <td>0.835</td>\n",
       "      <td>0.910</td>\n",
       "    </tr>\n",
       "    <tr>\n",
       "      <td>7</td>\n",
       "      <td>Transformer LSTM</td>\n",
       "      <td>0.975</td>\n",
       "      <td>0.814</td>\n",
       "      <td>0.506</td>\n",
       "      <td>0.623</td>\n",
       "    </tr>\n",
       "    <tr>\n",
       "      <td>8</td>\n",
       "      <td>Transformer Encode-Decode</td>\n",
       "      <td>0.480</td>\n",
       "      <td>0.541</td>\n",
       "      <td>0.480</td>\n",
       "      <td>0.404</td>\n",
       "    </tr>\n",
       "  </tbody>\n",
       "</table>\n",
       "</div>"
      ],
      "text/plain": [
       "                    ML Model  Accuracy  Precision  Recall  F1-Score\n",
       "0                        SVM     0.664      0.597   0.664     0.626\n",
       "1         Bagging Classifier     0.997      0.998   0.997     0.998\n",
       "2          Voting Classifier     0.997      0.997   0.997     0.997\n",
       "3                       LSTM     0.835      1.000   0.835     0.910\n",
       "4                        RNN     0.835      1.000   0.835     0.910\n",
       "5                 CNN + LSTM     0.842      0.990   0.842     0.906\n",
       "6                        FNN     0.835      1.000   0.835     0.910\n",
       "7           Transformer LSTM     0.975      0.814   0.506     0.623\n",
       "8  Transformer Encode-Decode     0.480      0.541   0.480     0.404"
      ]
     },
     "execution_count": 98,
     "metadata": {},
     "output_type": "execute_result"
    }
   ],
   "source": [
    "result"
   ]
  },
  {
   "cell_type": "markdown",
   "metadata": {},
   "source": [
    "# MOdelling"
   ]
  },
  {
   "cell_type": "code",
   "execution_count": 99,
   "metadata": {},
   "outputs": [
    {
     "data": {
      "text/plain": [
       "['model_cicids2017.sav']"
      ]
     },
     "execution_count": 99,
     "metadata": {},
     "output_type": "execute_result"
    }
   ],
   "source": [
    "import joblib\n",
    "filename = 'model_cicids2017.sav'\n",
    "joblib.dump(eclf1, filename)"
   ]
  },
  {
   "cell_type": "markdown",
   "metadata": {},
   "source": [
    "# Graph"
   ]
  },
  {
   "cell_type": "code",
   "execution_count": 100,
   "metadata": {},
   "outputs": [],
   "source": [
    "classifier = ML_Model\n",
    "y_pos = np.arange(len(classifier))"
   ]
  },
  {
   "cell_type": "markdown",
   "metadata": {},
   "source": [
    "# Accuracy"
   ]
  },
  {
   "cell_type": "code",
   "execution_count": 118,
   "metadata": {},
   "outputs": [
    {
     "data": {
      "image/png": "[encoded data removed]",
      "text/plain": [
       "<Figure size 432x288 with 1 Axes>"
      ]
     },
     "metadata": {
      "needs_background": "light"
     },
     "output_type": "display_data"
    }
   ],
   "source": [
    "import matplotlib.pyplot as plt2\n",
    "\n",
    "# Example data (assuming you have these variables defined)\n",
    "# y_pos = [0, 1, 2]  # Example indices\n",
    "# accuracy = [0.8, 0.6, 0.9]  # Example accuracy scores\n",
    "# classifier = ['Classifier A', 'Classifier B', 'Classifier C']\n",
    "\n",
    "y_pos = range(len(classifier))\n",
    "\n",
    "# Swap axes by using bar instead of barh\n",
    "plt.bar(y_pos, accuracy, align='center', alpha=0.5, color='blue')\n",
    "\n",
    "# Add x-tick labels for classifiers and rotate them for better readability\n",
    "plt.xticks(y_pos, classifier, rotation=25, ha='right')\n",
    "\n",
    "# Add axis labels and title\n",
    "plt.ylabel('Accuracy Score')\n",
    "\n",
    "plt.title('Classification Performance')\n",
    "\n",
    "# Display the plot\n",
    "plt.tight_layout()  # Ensures proper spacing of elements\n",
    "plt.show()"
   ]
  },
  {
   "cell_type": "markdown",
   "metadata": {},
   "source": [
    "# Precision"
   ]
  },
  {
   "cell_type": "code",
   "execution_count": 115,
   "metadata": {},
   "outputs": [
    {
     "data": {
      "image/png": "[encoded data removed]",
      "text/plain": [
       "<Figure size 432x288 with 1 Axes>"
      ]
     },
     "metadata": {
      "needs_background": "light"
     },
     "output_type": "display_data"
    }
   ],
   "source": [
    "plt2.bar(y_pos, precision, align='center', alpha=0.5, color='red') # Change to bar()\n",
    "plt.xticks(y_pos, classifier, rotation=25, ha='right')\n",
    "plt2.xticks(y_pos, classifier)  # Update from yticks to xticks\n",
    "plt2.ylabel('Precision Score')   # Update from xlabel to ylabel\n",
    "plt2.title('Classification Performance')\n",
    "plt2.show()"
   ]
  },
  {
   "cell_type": "markdown",
   "metadata": {},
   "source": [
    "# Recall"
   ]
  },
  {
   "cell_type": "code",
   "execution_count": 116,
   "metadata": {},
   "outputs": [
    {
     "data": {
      "image/png": "[encoded data removed]",
      "text/plain": [
       "<Figure size 432x288 with 1 Axes>"
      ]
     },
     "metadata": {
      "needs_background": "light"
     },
     "output_type": "display_data"
    }
   ],
   "source": [
    "import matplotlib.pyplot as plt2\n",
    "\n",
    "# Example data (assuming you have these variables defined)\n",
    "# y_pos = [0, 1, 2]  # Example indices\n",
    "# recall = [0.85, 0.75, 0.65]  # Example recall scores\n",
    "# classifier = ['Classifier A', 'Classifier B', 'Classifier C']\n",
    "\n",
    "plt2.bar(y_pos, recall, align='center', alpha=0.5, color='cyan')  # Change to bar()\n",
    "plt.xticks(y_pos, classifier, rotation=25, ha='right')\n",
    "\n",
    "plt2.xticks(y_pos, classifier)  # Update from yticks to xticks\n",
    "plt2.ylabel('Recall Score')     # Update from xlabel to ylabel\n",
    "plt2.title('Classification Performance')\n",
    "plt2.show()\n"
   ]
  },
  {
   "cell_type": "markdown",
   "metadata": {},
   "source": [
    "# F1 Score"
   ]
  },
  {
   "cell_type": "code",
   "execution_count": 117,
   "metadata": {},
   "outputs": [
    {
     "data": {
      "image/png": "[encoded data removed]",
      "text/plain": [
       "<Figure size 432x288 with 1 Axes>"
      ]
     },
     "metadata": {
      "needs_background": "light"
     },
     "output_type": "display_data"
    }
   ],
   "source": [
    "import matplotlib.pyplot as plt2\n",
    "\n",
    "# Example data (assuming you have these variables defined)\n",
    "# y_pos = [0, 1, 2]  # Example indices\n",
    "# f1score = [0.8, 0.7, 0.9]  # Example F1 scores\n",
    "# classifier = ['Classifier A', 'Classifier B', 'Classifier C']\n",
    "\n",
    "plt2.bar(y_pos, f1score, align='center', alpha=0.5, color='magenta')  # Change to bar()\n",
    "plt.xticks(y_pos, classifier, rotation=25, ha='right')\n",
    "plt2.xticks(y_pos, classifier)  # Update from yticks to xticks\n",
    "plt2.ylabel('F1 Score')         # Update from xlabel to ylabel\n",
    "plt2.title('Classification Performance')\n",
    "plt2.show()\n"
   ]
  },
  {
   "cell_type": "code",
   "execution_count": null,
   "metadata": {},
   "outputs": [],
   "source": []
  }
 ],
 "metadata": {
  "kaggle": {
   "accelerator": "none",
   "dataSources": [
    {
     "datasetId": 464228,
     "sourceId": 872432,
     "sourceType": "datasetVersion"
    }
   ],
   "dockerImageVersionId": 30635,
   "isGpuEnabled": false,
   "isInternetEnabled": true,
   "language": "python",
   "sourceType": "notebook"
  },
  "kernelspec": {
   "display_name": "Python 3",
   "language": "python",
   "name": "python3"
  },
  "language_info": {
   "codemirror_mode": {
    "name": "ipython",
    "version": 3
   },
   "file_extension": ".py",
   "mimetype": "text/x-python",
   "name": "python",
   "nbconvert_exporter": "python",
   "pygments_lexer": "ipython3",
   "version": "3.7.4"
  }
 },
 "nbformat": 4,
 "nbformat_minor": 4
}
